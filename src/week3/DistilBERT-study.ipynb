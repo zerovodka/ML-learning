{
  "cells": [
    {
      "cell_type": "markdown",
      "source": [
        "# DistilBERT - 실습\n",
        "> fine-tuning으로 감정 분석 모델 학습하기\n",
        "\n",
        "- pre-trained DistilBERT를 감정 분석 문제에 적용\n",
        "\n",
        "### DIstilBERT 구조 도식화\n",
        "```\n",
        "입력 예시: 문장 2개 → 배치 처리\n",
        "====================================================\n",
        "1. Raw Text:\n",
        "   [\"this is great\", \"totally boring...\"]\n",
        "\n",
        "2. Tokenizer 처리:\n",
        "   → input_ids:         [[101, 2023, 2003, 2307, 102, 0, 0],  \n",
        "                          [101,  totally, boring, ..., 102, 0]]\n",
        "   → attention_mask:     [[  1,    1,    1,    1,   1, 0, 0],\n",
        "                          [  1,    1,    1,   ...,  1, 0]]\n",
        "   → shape: [batch_size, seq_len] = [2, 7]\n",
        "\n",
        "====================================================\n",
        "3. DistilBERT 모델 입력:\n",
        "   model(input_ids, attention_mask)\n",
        "\n",
        "4. 출력 구조:\n",
        "   outputs = model(...)\n",
        "   └── outputs.last_hidden_state → shape: [2, 7, 768]\n",
        "\n",
        "     📌 의미:\n",
        "     - 각 토큰(7개)에 대해 768차원의 벡터가 출력됨\n",
        "     - 문장마다 7개의 토큰 벡터 존재\n",
        "     - 이 벡터들은 context-aware (예: 'great'의 벡터는 'this is'와 'great' 문맥)\n",
        "\n",
        "5. 분류 태스크:\n",
        "   보통 이 중 첫 번째 벡터, 즉 [CLS] 벡터를 사용\n",
        "   → x = outputs.last_hidden_state[:, 0, :]  → shape: [2, 768]\n",
        "   → classifier(x) → shape: [2, num_classes]\n",
        "\n",
        "====================================================\n",
        "```\n",
        "\n",
        "### Packages\n",
        "- `datasets`: HuggingFace의 데이터셋 로딩용 라이브러리 (IMDB, AG_News 등)\n",
        "- `sentencepiece`, `sacremoses`: 일부 tokenizer에서 사용하는 전처리 도구\n",
        "- 그 외 유틸 (`tqdm`: 진행바, `requests`: HTTP 요청 등)"
      ],
      "metadata": {
        "id": "sbgz49PvHhLt"
      }
    },
    {
      "cell_type": "code",
      "execution_count": null,
      "metadata": {
        "id": "1LqgujQUbv6X",
        "collapsed": true
      },
      "outputs": [],
      "source": [
        "!pip install tqdm boto3 requests regex sentencepiece sacremoses datasets"
      ]
    },
    {
      "cell_type": "markdown",
      "source": [
        "### Libraries\n",
        "- `load_dataset`: HuggingFace 데이터셋을 쉽게 불러오기 위한 함수\n",
        "\n",
        "### Tokenizer\n",
        "- `tokenizer`: DistilBERT용 토크나이저\n",
        "  - `distilbert-base-uncased`: 소문자만 사용하는 경량 BERT 모델"
      ],
      "metadata": {
        "id": "6YP3FxG9IF7O"
      }
    },
    {
      "cell_type": "code",
      "execution_count": null,
      "metadata": {
        "id": "6lGiZUoPby6e"
      },
      "outputs": [],
      "source": [
        "import torch\n",
        "from datasets import load_dataset\n",
        "from torch.utils.data import DataLoader\n",
        "\n",
        "# DistilBERT 모델용 tokenizer 로드 (pretrained)\n",
        "# 이 tokenizer는 문장을 토큰화해서 모델이 이해할 수 있는 input_ids로 변환해줌\n",
        "tokenizer = torch.hub.load('huggingface/pytorch-transformers', 'tokenizer', 'distilbert-base-uncased')"
      ]
    },
    {
      "cell_type": "markdown",
      "source": [
        "### 데이터셋 불러오기(`load_dataset`) 및 `collate_fn`정의\n",
        "**데이터셋**   \n",
        "- **IMDB**(binary classification -> 0: 부정 / 1: 긍정)\n",
        "- `[:5%]`: train/test 각각 5%만 샘플링하여 사용   \n",
        "\n",
        "<br>\n",
        "\n",
        "**`collate_fn`**   \n",
        "```\n",
        "batch 단위로 text, label 추출\n",
        "- text: token화 한 input_ids PyTorch LongTensor\n",
        "- label: 기존 label PyTorch LongTensor\n",
        "\n",
        "attention mask는 사용하지 않음\n",
        "- self-attention 시 마스킹 처리를 하지 않음\n",
        "- 모든 토큰에 대해 유효 단어로 처리하여 padding token까지 학습세 사용하게 됨\n",
        "\n",
        "=> 학습 성능이 하향될 수 있음\n",
        "```\n",
        "- `max_len`: 400\n",
        "- `batch_size`: 64\n",
        "- `padding`, `truncation`: True\n",
        "\n",
        "<br>\n",
        "\n",
        "**DistilBERT 흐름 시각화**\n",
        "```\n",
        "          ┌─────────────────────┐\n",
        "          │  input_ids          │\n",
        "          │  attention_mask     │\n",
        "          └─────────────────────┘\n",
        "                    │\n",
        "                    ▼\n",
        "          ┌─────────────────────┐\n",
        "          │    DistilBERT        │\n",
        "          │  (transformer layers)│\n",
        "          └─────────────────────┘\n",
        "                    │\n",
        "                    ▼\n",
        "┌────────────────────────────────────────────┐\n",
        "│ last_hidden_state (shape: [B, L, 768])     │\n",
        "└────────────────────────────────────────────┘\n",
        "                    │\n",
        "                    ▼\n",
        "         [CLS] token vector만 추출 → shape: [B, 768]\n",
        "                    │\n",
        "                    ▼\n",
        "         Linear → num_classes 출력 → [B, C]\n",
        "```"
      ],
      "metadata": {
        "id": "Cvfl_uFLIMWO"
      }
    },
    {
      "cell_type": "code",
      "source": [
        "# IMDB 감정 분석 데이터셋의 5%만 로드 (학습 데이터와 테스트 데이터 각각)\n",
        "train_ds = load_dataset(\"stanfordnlp/imdb\", split=\"train[:5%]\")\n",
        "test_ds = load_dataset(\"stanfordnlp/imdb\", split=\"test[:5%]\")\n",
        "\n",
        "# 데이터를 배치로 묶기 위한 함수 정의\n",
        "def collate_fn(batch):\n",
        "    max_len = 400  # 입력 문장의 최대 길이 설정\n",
        "    texts, labels = [], []  # 입력 문장들과 라벨들을 저장할 리스트\n",
        "\n",
        "    # 배치 내 각 샘플에 대해 text와 label 추출\n",
        "    for row in batch:\n",
        "        labels.append(row['label'])\n",
        "        texts.append(row['text'])\n",
        "\n",
        "    # tokenizer로 텍스트를 토큰화하고, 최대 길이로 패딩 및 자르기\n",
        "    # tokenizer는 사전에 정의되어 있어야 함 (예: tokenizer = AutoTokenizer.from_pretrained(...))\n",
        "    texts = torch.LongTensor(\n",
        "        tokenizer(texts, padding=True, truncation=True, max_length=max_len).input_ids\n",
        "    )\n",
        "\n",
        "    # 라벨 리스트를 LongTensor로 변환\n",
        "    labels = torch.LongTensor(labels)\n",
        "\n",
        "    # 모델 학습에 필요한 입력 (토큰화된 문장들)과 정답 라벨 반환\n",
        "    return texts, labels\n",
        "\n",
        "# 학습용 DataLoader 정의 (shuffle=True로 배치 순서 랜덤화)\n",
        "train_loader = DataLoader(\n",
        "    train_ds, batch_size=64, shuffle=True, collate_fn=collate_fn\n",
        ")\n",
        "\n",
        "# 테스트용 DataLoader 정의 (shuffle=False로 배치 순서 고정)\n",
        "test_loader = DataLoader(\n",
        "    test_ds, batch_size=64, shuffle=False, collate_fn=collate_fn\n",
        ")"
      ],
      "metadata": {
        "id": "rE-y8sY9HuwP"
      },
      "execution_count": null,
      "outputs": []
    },
    {
      "cell_type": "markdown",
      "source": [
        "### DistilBERT 모델 로드\n",
        "- HuggingFace에서 pre-trained된 DistilBERT 모델을 PyTorch Hub로 로드\n",
        "- **`input`**: tokenizing된 데이터의 **input_ids만**\n",
        "- **`output`**: `last_hidden_state`"
      ],
      "metadata": {
        "id": "bF34XkoYIeEm"
      }
    },
    {
      "cell_type": "code",
      "execution_count": 4,
      "metadata": {
        "colab": {
          "base_uri": "https://localhost:8080/",
          "height": 659,
          "referenced_widgets": [
            "bfae68efc8ad42929233ec5c5062d781",
            "c293eaef74d645aa9b5a1d3bf1f8a23f",
            "00bf6a121b8f48ee84f3a0026feba076",
            "92d0bce86e7842e0bdeddc7491a6c4bf",
            "3d4604eec6f044e093e055439a3c6eff",
            "037bd263e3c84ad88e77ac052d40627e",
            "e17bf40563e0408b8f1bc3d18bae84cf",
            "8cc3e68122e84a2f8ca10e3ab9765f5e",
            "4f25cdd4b4904d33bdd9bb2862efdb7d",
            "a4658b43a6fc4cc0b6c3ca8c68e2ac13",
            "13f1838b918c4e84b02e94e44f35840a"
          ]
        },
        "executionInfo": {
          "elapsed": 8807,
          "status": "ok",
          "timestamp": 1744126475868,
          "user": {
            "displayName": "표표표표푱",
            "userId": "15791434277334549064"
          },
          "user_tz": -540
        },
        "id": "HJaUp2Vob0U-",
        "outputId": "bbf3d2f3-c2d9-43aa-aaa8-103cefe54bec"
      },
      "outputs": [
        {
          "output_type": "stream",
          "name": "stderr",
          "text": [
            "Using cache found in /root/.cache/torch/hub/huggingface_pytorch-transformers_main\n",
            "Xet Storage is enabled for this repo, but the 'hf_xet' package is not installed. Falling back to regular HTTP download. For better performance, install the package with: `pip install huggingface_hub[hf_xet]` or `pip install hf_xet`\n",
            "WARNING:huggingface_hub.file_download:Xet Storage is enabled for this repo, but the 'hf_xet' package is not installed. Falling back to regular HTTP download. For better performance, install the package with: `pip install huggingface_hub[hf_xet]` or `pip install hf_xet`\n"
          ]
        },
        {
          "output_type": "display_data",
          "data": {
            "text/plain": [
              "model.safetensors:   0%|          | 0.00/268M [00:00<?, ?B/s]"
            ],
            "application/vnd.jupyter.widget-view+json": {
              "version_major": 2,
              "version_minor": 0,
              "model_id": "bfae68efc8ad42929233ec5c5062d781"
            }
          },
          "metadata": {}
        },
        {
          "output_type": "execute_result",
          "data": {
            "text/plain": [
              "DistilBertModel(\n",
              "  (embeddings): Embeddings(\n",
              "    (word_embeddings): Embedding(30522, 768, padding_idx=0)\n",
              "    (position_embeddings): Embedding(512, 768)\n",
              "    (LayerNorm): LayerNorm((768,), eps=1e-12, elementwise_affine=True)\n",
              "    (dropout): Dropout(p=0.1, inplace=False)\n",
              "  )\n",
              "  (transformer): Transformer(\n",
              "    (layer): ModuleList(\n",
              "      (0-5): 6 x TransformerBlock(\n",
              "        (attention): DistilBertSdpaAttention(\n",
              "          (dropout): Dropout(p=0.1, inplace=False)\n",
              "          (q_lin): Linear(in_features=768, out_features=768, bias=True)\n",
              "          (k_lin): Linear(in_features=768, out_features=768, bias=True)\n",
              "          (v_lin): Linear(in_features=768, out_features=768, bias=True)\n",
              "          (out_lin): Linear(in_features=768, out_features=768, bias=True)\n",
              "        )\n",
              "        (sa_layer_norm): LayerNorm((768,), eps=1e-12, elementwise_affine=True)\n",
              "        (ffn): FFN(\n",
              "          (dropout): Dropout(p=0.1, inplace=False)\n",
              "          (lin1): Linear(in_features=768, out_features=3072, bias=True)\n",
              "          (lin2): Linear(in_features=3072, out_features=768, bias=True)\n",
              "          (activation): GELUActivation()\n",
              "        )\n",
              "        (output_layer_norm): LayerNorm((768,), eps=1e-12, elementwise_affine=True)\n",
              "      )\n",
              "    )\n",
              "  )\n",
              ")"
            ]
          },
          "metadata": {},
          "execution_count": 4
        }
      ],
      "source": [
        "#DistilBERT 모델을 PyTorch Hub에서 로드 후 model 출력\n",
        "model = torch.hub.load('huggingface/pytorch-transformers', 'model', 'distilbert-base-uncased')\n",
        "model"
      ]
    },
    {
      "cell_type": "markdown",
      "source": [
        "### Classifier 모델 정의\n",
        "```\n",
        "DistilBERT의 [CLS] 토큰 벡터(x[:,0])를 추출하여 classification task 수행\n",
        "```\n",
        "- binary classification: `nn.Linear(768, 1)`\n",
        "- sigmoid, softmax등의 확률화 함수 없이 raw logit 값을 출력"
      ],
      "metadata": {
        "id": "uh-tqY8WInQt"
      }
    },
    {
      "cell_type": "code",
      "execution_count": 5,
      "metadata": {
        "colab": {
          "base_uri": "https://localhost:8080/"
        },
        "executionInfo": {
          "elapsed": 968,
          "status": "ok",
          "timestamp": 1744126476842,
          "user": {
            "displayName": "표표표표푱",
            "userId": "15791434277334549064"
          },
          "user_tz": -540
        },
        "id": "xW7ETZQzzNp2",
        "outputId": "f490bd8e-af00-4615-fbba-d255f6eae516"
      },
      "outputs": [
        {
          "output_type": "stream",
          "name": "stderr",
          "text": [
            "Using cache found in /root/.cache/torch/hub/huggingface_pytorch-transformers_main\n"
          ]
        }
      ],
      "source": [
        "from torch import nn\n",
        "\n",
        "# 텍스트 분류 모델 정의 (DistilBERT + Linear layer)\n",
        "class TextClassifier(nn.Module):\n",
        "    def __init__(self):\n",
        "        super().__init__()\n",
        "\n",
        "        # 사전학습된 DistilBERT 모델을 encoder로 불러옴 (pretrained transformer)\n",
        "        self.encoder = torch.hub.load('huggingface/pytorch-transformers', 'model', 'distilbert-base-uncased')\n",
        "\n",
        "\n",
        "        # [CLS] 토큰 분류기 정의 => Binary Classification\n",
        "        self.classifier = nn.Linear(768, 1)\n",
        "\n",
        "    def forward(self, x):\n",
        "        # encoder에 input_ids 전달\n",
        "        x = self.encoder(x)['last_hidden_state']\n",
        "\n",
        "        # [CLS] 토큰 위치 벡터를 classification head에 전달\n",
        "        x = self.classifier(x[:, 0])\n",
        "\n",
        "        return x  # logit 출력 (ex: [0.3, -1.2, 1.5, 0.7])\n",
        "\n",
        "model = TextClassifier()"
      ]
    },
    {
      "cell_type": "markdown",
      "source": [
        "### DistilBERT(encoder) freeze 처리\n",
        "- `model.encoder`: DistilBERT 모델\n",
        "- `requires_grad = False`: **역전파에서 gradient가 계산되지 않도록**처리\n",
        "  - 즉, **pre-trained encoder는 freeze하고** classifer 부분만 학습하도록 설정\n",
        "\n",
        "<br>\n",
        "\n",
        "**freeze 처리 이유**   \n",
        "- 학습 속도가 빨라짐\n",
        "- 데이터셋이 작을 경우 **overfitting 방지**\n",
        "- classifier (Linear layer)만 fine tuning"
      ],
      "metadata": {
        "id": "_hFvSis0JLju"
      }
    },
    {
      "cell_type": "code",
      "execution_count": 6,
      "metadata": {
        "id": "uyTciaPZ0KYo",
        "executionInfo": {
          "status": "ok",
          "timestamp": 1744126476854,
          "user_tz": -540,
          "elapsed": 12,
          "user": {
            "displayName": "표표표표푱",
            "userId": "15791434277334549064"
          }
        }
      },
      "outputs": [],
      "source": [
        "for param in model.encoder.parameters():\n",
        "  param.requires_grad = False"
      ]
    },
    {
      "cell_type": "markdown",
      "source": [
        "### 학습\n",
        "**optimizer**\n",
        "- `Adam`   \n",
        "\n",
        "**loss function**\n",
        "- `BCEWithLogitsLoss()`: binary classification\n",
        "\n",
        "**epoch**   \n",
        "- 5   \n",
        "\n",
        "> 매 배치마다 zero_grad -> forward -> loss -> backward -> step 반복\n",
        "\n",
        "**`preds = model(inputs)[..., 0]`**   \n",
        "- output shape이 [batch_size, 1]일 때 [batch_size,]로 reshape해줌"
      ],
      "metadata": {
        "id": "hU7BWEbgJeKm"
      }
    },
    {
      "cell_type": "code",
      "execution_count": 7,
      "metadata": {
        "colab": {
          "base_uri": "https://localhost:8080/"
        },
        "id": "XvvaAEwCznt-",
        "executionInfo": {
          "status": "ok",
          "timestamp": 1744126546795,
          "user_tz": -540,
          "elapsed": 69939,
          "user": {
            "displayName": "표표표표푱",
            "userId": "15791434277334549064"
          }
        },
        "outputId": "5ff28186-411b-4ba9-c432-6d10ef0424d3"
      },
      "outputs": [
        {
          "output_type": "stream",
          "name": "stderr",
          "text": [
            "We strongly recommend passing in an `attention_mask` since your input_ids may be padded. See https://huggingface.co/docs/transformers/troubleshooting#incorrect-output-when-padding-tokens-arent-masked.\n"
          ]
        },
        {
          "output_type": "stream",
          "name": "stdout",
          "text": [
            "Epoch   0 | Train Loss: 3.7471729926764965\n",
            "Epoch   1 | Train Loss: 0.5308846943080425\n",
            "Epoch   2 | Train Loss: 0.23809954430907965\n",
            "Epoch   3 | Train Loss: 0.16150250332430005\n",
            "Epoch   4 | Train Loss: 0.12457623751834035\n"
          ]
        }
      ],
      "source": [
        "from torch.optim import Adam\n",
        "import numpy as np\n",
        "import matplotlib.pyplot as plt\n",
        "\n",
        "# 학습 설정\n",
        "lr = 0.001\n",
        "model = model.to('cuda')  # 모델을 GPU로 이동\n",
        "loss_fn = nn.BCEWithLogitsLoss()  # 이진 분류용 손실 함수\n",
        "\n",
        "optimizer = Adam(model.parameters(), lr=lr)\n",
        "n_epochs = 5\n",
        "\n",
        "# 학습 루프\n",
        "for epoch in range(n_epochs):\n",
        "    total_loss = 0.\n",
        "    model.train()  # 학습 모드 설정\n",
        "\n",
        "    for data in train_loader:\n",
        "        model.zero_grad()  # 이전 gradient 초기화\n",
        "\n",
        "        inputs, labels = data\n",
        "        inputs, labels = inputs.to('cuda'), labels.to('cuda').float()  # GPU 이동 및 float 변환\n",
        "\n",
        "        preds = model(inputs)[..., 0]  # 출력 차원 맞추기 (batch_size,)\n",
        "\n",
        "        loss = loss_fn(preds, labels)  # 손실 계산\n",
        "        loss.backward()  # 역전파\n",
        "        optimizer.step()  # 파라미터 업데이트\n",
        "\n",
        "        total_loss += loss.item()  # loss 누적\n",
        "\n",
        "    print(f\"Epoch {epoch:3d} | Train Loss: {total_loss}\")"
      ]
    },
    {
      "cell_type": "markdown",
      "source": [
        "### 정확도 측정\n",
        "**Threshold**: 임계값 처리   \n",
        "> 모델이 출력한 연속적인 수치(logit or 확률)를 0 or 1로 변환하는 과정\n",
        "\n",
        "- 주로 **binary classification**에서 사용\n",
        "  - 보통 sigmoid -> threshold\n",
        "  - Multi-class Classification에서는 softmax -> argmax로 함\n",
        "- 모델이 출력한 값이 특정 임계값(보통 0.5)을 넘으면 **Positive (1)**\n",
        "- or **Negative (0)**"
      ],
      "metadata": {
        "id": "ulptA2JuBPKr"
      }
    },
    {
      "cell_type": "code",
      "execution_count": 8,
      "metadata": {
        "executionInfo": {
          "elapsed": 27856,
          "status": "ok",
          "timestamp": 1744126574652,
          "user": {
            "displayName": "표표표표푱",
            "userId": "15791434277334549064"
          },
          "user_tz": -540
        },
        "id": "DjphVwXL00E2",
        "colab": {
          "base_uri": "https://localhost:8080/"
        },
        "outputId": "794b9216-37e3-4c52-8f6a-ad845d143ec1"
      },
      "outputs": [
        {
          "output_type": "stream",
          "name": "stdout",
          "text": [
            "=========> Train acc: 1.000 | Test acc: 1.000\n"
          ]
        }
      ],
      "source": [
        "def accuracy(model, dataloader):\n",
        "    cnt = 0      # 전체 샘플 수\n",
        "    acc = 0      # 정답 개수 누적\n",
        "\n",
        "    for data in dataloader:\n",
        "        inputs, labels = data\n",
        "        inputs, labels = inputs.to('cuda'), labels.to('cuda')\n",
        "\n",
        "        preds = model(inputs)  # 로짓(logit) 출력\n",
        "\n",
        "        # 시그모이드는 생략 가능 (BCEWithLogitsLoss를 썼다면 threshold만 적용)\n",
        "        # preds = torch.argmax(preds, dim=-1)\n",
        "        preds = (preds > 0).long()[..., 0]\n",
        "\n",
        "        cnt += labels.shape[0]  # 총 샘플 수 누적\n",
        "        acc += (labels == preds).sum().item()  # 예측이 맞은 수 누적\n",
        "\n",
        "    return acc / cnt  # 정확도 반환\n",
        "\n",
        "# 평가 시 gradient 계산 비활성화\n",
        "with torch.no_grad():\n",
        "    model.eval()  # 평가 모드로 전환 (계산 비활성화)\n",
        "    train_acc = accuracy(model, train_loader)\n",
        "    test_acc = accuracy(model, test_loader)\n",
        "\n",
        "    print(f\"=========> Train acc: {train_acc:.3f} | Test acc: {test_acc:.3f}\")\n"
      ]
    },
    {
      "cell_type": "code",
      "source": [],
      "metadata": {
        "id": "Foks5u95ZQ1_",
        "executionInfo": {
          "status": "ok",
          "timestamp": 1744126574662,
          "user_tz": -540,
          "elapsed": 2,
          "user": {
            "displayName": "표표표표푱",
            "userId": "15791434277334549064"
          }
        }
      },
      "execution_count": 8,
      "outputs": []
    }
  ],
  "metadata": {
    "accelerator": "GPU",
    "colab": {
      "gpuType": "T4",
      "provenance": [
        {
          "file_id": "1Q8Co2FWHxjftQw3hZmk4SjF3lyse4MZR",
          "timestamp": 1744103181536
        }
      ]
    },
    "kernelspec": {
      "display_name": "Python 3",
      "name": "python3"
    },
    "language_info": {
      "name": "python"
    }
  },
  "nbformat": 4,
  "nbformat_minor": 0
}
