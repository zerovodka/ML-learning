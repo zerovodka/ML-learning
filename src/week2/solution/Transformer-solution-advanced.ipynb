{
  "cells": [
    {
      "cell_type": "markdown",
      "metadata": {
        "id": "ymxatB5WYxlL"
      },
      "source": [
        "# Transformer - 심화 과제 (MHA / 감정 분석 모델 구현)\n",
        "```\n",
        "- IMDb 데이터셋\n",
        "- Self-Attention => MHA 확장\n",
        "  - layer normalization\n",
        "  - dropout\n",
        "  - residual connection\n",
        "- Transformer encoder의 완전한 형태 구현\n",
        "```"
      ]
    },
    {
      "cell_type": "code",
      "execution_count": null,
      "metadata": {
        "id": "1X7RM2du1zcr"
      },
      "outputs": [],
      "source": [
        "!pip install datasets sacremoses"
      ]
    },
    {
      "cell_type": "code",
      "execution_count": null,
      "metadata": {
        "id": "HOdhoBVA1zcu"
      },
      "outputs": [],
      "source": [
        "import torch\n",
        "from torch import nn\n",
        "from datasets import load_dataset\n",
        "from torch.utils.data import DataLoader\n",
        "from transformers import BertTokenizerFast\n",
        "import tokenizers\n",
        "from torch.nn.utils.rnn import pad_sequence\n",
        "from math import sqrt\n",
        "\n",
        "# ds = load_dataset(\"stanfordnlp/imdb\")\n",
        "train_ds = load_dataset(\"stanfordnlp/imdb\", split=\"train[:5%]\")\n",
        "test_ds = load_dataset(\"stanfordnlp/imdb\", split=\"test[:5%]\")\n",
        "\n",
        "tokenizer = torch.hub.load('huggingface/pytorch-transformers', 'tokenizer', 'bert-base-uncased')"
      ]
    },
    {
      "cell_type": "markdown",
      "source": [
        "**BERT Tokenizer Fnc**   \n",
        "- to_tensor 값에 따라 PyTorch Tensor type 혹은 Numpy 배열로 리턴한다\n",
        "- `collate_fn`에서 `pad_sequence`를 통해 동적 padding 수행하기에 `padding=True` 제외\n",
        "  - 데이터셋 중 가장 긴 문장길이가 200이라고하면, max_len으로 지정한 400으로 모두 padding 처리하는 것은 비효율\n",
        "  - 200으로 동적 padding을 수행해줌"
      ],
      "metadata": {
        "id": "v-z9jj5nVeiC"
      }
    },
    {
      "cell_type": "code",
      "source": [
        "def tokenizer_bert(text, max_length, to_tensor=False):\n",
        "\n",
        "  return tokenizer(text, truncation=True, max_length=max_length, return_tensors= 'pt' if to_tensor else None)"
      ],
      "metadata": {
        "id": "OxeFOlnBOLnK",
        "executionInfo": {
          "status": "ok",
          "timestamp": 1743770336030,
          "user_tz": -540,
          "elapsed": 49,
          "user": {
            "displayName": "표표표표푱",
            "userId": "15791434277334549064"
          }
        }
      },
      "execution_count": 3,
      "outputs": []
    },
    {
      "cell_type": "markdown",
      "source": [
        "## `collate_fn(batch)`\n",
        "- PyTorch DataLoader에서 batch 단위로 데이터를 불러옴\n",
        "- 불러온 각 데이터를 어떻게 하나의 batch로 묶을지 정의하는 함수\n",
        "``` python\n",
        "DataLoader(dataset, batch_size=64, collate_fn=collate_fn)\n",
        "```\n",
        "\n",
        "**방향성**   \n",
        "- 보다 명확히 유효 토큰을 필터링하여 리턴한다\n",
        "\n",
        "**batch**   \n",
        "- 길이: 64 `batch_size`지정 값\n",
        "- 각 원소는 dataset[i]\n",
        "``` python\n",
        "  {'text': ...., 'label':....} 👉🏻 상단에 print 부분 참조\n",
        "\n",
        "  # 즉 아래와 같은 형태\n",
        "  batch = [dict(text='sep1,,', label=0), dict(text='sep2,,', label=1), ...]\n",
        "```\n",
        "\n",
        "<br>\n",
        "\n",
        "**`torch.nn.utils.rnn.pad_sequence`**   \n",
        "- 여러 길이의 sequence를 하나의 tensor로 묶기위해 padding을 자동으로 추가\n",
        "- 같은 크기로 맞춰줌\n",
        "  - Model에 batch로 넣기 위해 꼭 필요함\n",
        "``` python\n",
        "    texts = [\n",
        "      torch.tensor([101, 2009, 2001]),\n",
        "      torch.tensor([101, 1996]),\n",
        "      torch.tensor([101, 1996, 2190, 3185])\n",
        "    ]\n",
        "\n",
        "    pad_sequence(texts, batch_first=True, padding_value=0)\n",
        "\n",
        "    👉🏻 tensor([\n",
        "      [101, 2009, 2001,    0],\n",
        "      [101, 1996,    0,    0],\n",
        "      [101, 1996, 2190, 3185]\n",
        "    ])\n",
        "```"
      ],
      "metadata": {
        "id": "BSb_T0DgYtkK"
      }
    },
    {
      "cell_type": "code",
      "source": [
        "def collate_fn(batch):\n",
        "  max_len = 400\n",
        "  texts, labels = [], []\n",
        "\n",
        "  # ignore token을 지정\n",
        "  # ignore_policy를 제외함\n",
        "  IGNORE_TOKENS = {\n",
        "      tokenizer.sep_token_id,\n",
        "      tokenizer.pad_token_id,\n",
        "      # list comprehension\n",
        "      *[tokenizer.convert_tokens_to_ids(ignore_policy) for ignore_policy in ['.', ',', '?', '!', ';']]\n",
        "  }\n",
        "\n",
        "  for row in batch:\n",
        "\n",
        "    # input_ids: BERT Tokenization, input_ids 추출\n",
        "    ids = tokenizer_bert(row['text'], max_len).input_ids\n",
        "\n",
        "    # 유효 label 찾기: 뒤에서 부터 하나씩 체크\n",
        "    for i in range(len(ids) - 1, -1, -1):\n",
        "      token_id = ids[i]\n",
        "      if token_id not in IGNORE_TOKENS:\n",
        "        label_id = token_id\n",
        "        label_pos = i\n",
        "        break\n",
        "      # 유효 토큰이 없는 경우 넘어감\n",
        "      else:\n",
        "        continue\n",
        "\n",
        "    # 입력 값에서 label 제외\n",
        "    # 유효 text만 추출\n",
        "    ids = ids[:label_pos]\n",
        "    if len(ids) < 2:\n",
        "      continue\n",
        "\n",
        "    texts.append(torch.LongTensor(ids))\n",
        "    labels.append(label_id)\n",
        "\n",
        "  # 유효 text가 하나도 없으면 빈 텐서 리턴\n",
        "  # 빈 텐서를 pad_sequence 처리하면 에러 발생\n",
        "  if not texts:\n",
        "    return torch.empty(0), torch.empty(0)\n",
        "\n",
        "  # policy에 맞는 유효 토큰을 추출한 후\n",
        "  # Model에 넣기 전 전처리\n",
        "  # tokenizer에서 진행하지 않은 padding 작업을 수행하여\n",
        "  # 정사각 tensor로 변환\n",
        "  texts = pad_sequence(texts, batch_first=True, padding_value=tokenizer.pad_token_id)\n",
        "  labels = torch.LongTensor(labels)\n",
        "\n",
        "  return texts, labels\n",
        "\n",
        "\n",
        "train_loader = DataLoader(\n",
        "    train_ds, batch_size=64, shuffle=True, collate_fn=collate_fn\n",
        ")\n",
        "test_loader = DataLoader(\n",
        "    test_ds, batch_size=64, shuffle=False, collate_fn=collate_fn\n",
        ")"
      ],
      "metadata": {
        "id": "cUWbJbNxHNGJ",
        "executionInfo": {
          "status": "ok",
          "timestamp": 1743770336046,
          "user_tz": -540,
          "elapsed": 11,
          "user": {
            "displayName": "표표표표푱",
            "userId": "15791434277334549064"
          }
        }
      },
      "execution_count": 4,
      "outputs": []
    },
    {
      "cell_type": "markdown",
      "source": [
        "### Multi-Head-Attention\n",
        "- Self-Attention을 여러 개의 head로 **병렬 실행**해서 서로 다른 시각으로 관계성을 이해하게 해줌\n",
        "  - 각 head는 입력을 다르게 쪼개어 다양한 관계에 집중\n",
        "  - 마지막에 **head별 attention 결과를 concat**\n",
        "\n",
        "**`D` / `D'`**\n",
        "- `D`: d_model, 전체 embedding 차원\n",
        "- `D'`: 각 head가 가져가는 **부분 차원**\n",
        "  ``` python\n",
        "  D' = d_model // n_heads\n",
        "  ```\n",
        "<br>\n",
        "\n",
        "**summary**\n",
        "\n",
        "```\n",
        "입력 * (B, S, D)\n",
        "  ↓\n",
        "W_q, W_k, W_v projection\n",
        "  ↓\n",
        "reshape → (B, H, S, D')\n",
        "  ↓\n",
        "dot-product attention (QKᵀ / √D')\n",
        "  ↓\n",
        "softmax → attention weights\n",
        "  ↓\n",
        "attention * V\n",
        "  ↓\n",
        "concat heads → (B, S, D)\n",
        "  ↓\n",
        "Linear projection → 최종 출력\n",
        "\n",
        "```"
      ],
      "metadata": {
        "id": "YBUK25TQhbGr"
      }
    },
    {
      "cell_type": "code",
      "source": [
        "class MultiHeadAttention(nn.Module):\n",
        "  def __init__(self, input_dim, d_model, n_heads):\n",
        "    super().__init__()\n",
        "\n",
        "    # D(d_model)가 H(n_heads)로 나눠 떨어지는 값이라는 제약 조건\n",
        "    # assert: 이 조건은 코드 작성자인 내가 보증하며, 이 조건이 거짓이면 AssertionError를 발생시키도록 함\n",
        "    assert d_model % n_heads == 0, '모델의 차원수가 head의 수의 배수가 아닙니다'\n",
        "\n",
        "    self.d_model = d_model\n",
        "    self.n_heads = n_heads\n",
        "    self.d_head = d_model // n_heads # D'\n",
        "\n",
        "    # Q, K, V projection layer\n",
        "    self.wq = nn.Linear(input_dim, d_model)\n",
        "    self.wk = nn.Linear(input_dim, d_model)\n",
        "    self.wv = nn.Linear(input_dim, d_model)\n",
        "\n",
        "    # 여러 head를 합친 결과를 하나의 projection으로\n",
        "    self.dense = nn.Linear(d_model, d_model)\n",
        "\n",
        "    self.softmax = nn.Softmax(dim=-1)\n",
        "\n",
        "  def forward(self, x, mask):\n",
        "    B, S, _ = x.shape # Batch, Seq_len / 배치 크기, 시퀀스 길이만 가져오기\n",
        "\n",
        "    # Q, K, V 만든 후, (B, S, H, D)로 reshape, transpose(1, 2)로 (B, H, S, D) => 여기서는 view()를 사용해서 shape을 바꿈\n",
        "    # (B, S, D) => (B, S, H, D) => (B, H, S, D')\n",
        "    # batch마다 H개의 attention head를 갖게\n",
        "    q = self.wq(x).view(B, S, self.n_heads, self.d_head).transpose(1, 2) # (B, H, S, D')\n",
        "    k = self.wk(x).view(B, S, self.n_heads, self.d_head).transpose(1, 2)\n",
        "    v = self.wv(x).view(B, S, self.n_heads, self.d_head).transpose(1, 2)\n",
        "\n",
        "    # 각 head마다 Q * K transpose 계산 -> 단어들 간의 유사도 데이터\n",
        "    # 내적 값이 너무 커지는 경우를 방지하기 위한 스케일링: sqrt(D')로 나눔\n",
        "    score = torch.matmul(q, k.transpose(-1, -2)) / sqrt(self.d_head)\n",
        "\n",
        "    # Mask 적용\n",
        "    # padding token 무시하도록 선언\n",
        "    if mask is not None:\n",
        "      # unsqueeze: 해당 위치에 차원을 1의 크기로 추가하는 함수 <-> squeeze()\n",
        "      mask = mask.unsqueeze(1)\n",
        "      score = score.masked_fill(mask == 1, -1e9)\n",
        "\n",
        "    # softmax 취하고 v 값 곱해주기\n",
        "    attention = self.softmax(score) # (B, H, S, S)\n",
        "    context = torch.matmul(attention, v) # (B, H, S, D')\n",
        "\n",
        "    # concat heads\n",
        "    # transpose 처리한 텐서는 메모리 상 비연속 => contiguous 처리 후 view 처리\n",
        "    context = context.transpose(1, 2).contiguous().view(B, S, self.d_model) # (B, S, D)\n",
        "\n",
        "    output = self.dense(context)\n",
        "\n",
        "    return output"
      ],
      "metadata": {
        "id": "t4hHkcqzhfJi",
        "executionInfo": {
          "status": "ok",
          "timestamp": 1743770336063,
          "user_tz": -540,
          "elapsed": 12,
          "user": {
            "displayName": "표표표표푱",
            "userId": "15791434277334549064"
          }
        }
      },
      "execution_count": 5,
      "outputs": []
    },
    {
      "cell_type": "markdown",
      "metadata": {
        "id": "i-FshZcTZBQ2"
      },
      "source": [
        "## Self-attention"
      ]
    },
    {
      "cell_type": "code",
      "execution_count": 6,
      "metadata": {
        "id": "MBlMVMZcRAxv",
        "executionInfo": {
          "status": "ok",
          "timestamp": 1743770336073,
          "user_tz": -540,
          "elapsed": 4,
          "user": {
            "displayName": "표표표표푱",
            "userId": "15791434277334549064"
          }
        }
      },
      "outputs": [],
      "source": [
        "from torch import nn\n",
        "from math import sqrt\n",
        "\n",
        "\n",
        "class SelfAttention(nn.Module):\n",
        "  def __init__(self, input_dim, d_model):\n",
        "    super().__init__()\n",
        "\n",
        "    self.input_dim = input_dim\n",
        "    self.d_model = d_model\n",
        "\n",
        "    self.wq = nn.Linear(input_dim, d_model)\n",
        "    self.wk = nn.Linear(input_dim, d_model)\n",
        "    self.wv = nn.Linear(input_dim, d_model)\n",
        "    self.dense = nn.Linear(d_model, d_model)\n",
        "\n",
        "    self.softmax = nn.Softmax(dim=-1)\n",
        "\n",
        "  def forward(self, x, mask):\n",
        "    q, k, v = self.wq(x), self.wk(x), self.wv(x)\n",
        "    score = torch.matmul(q, k.transpose(-1, -2)) # (B, S, D) * (B, D, S) = (B, S, S)\n",
        "    score = score / sqrt(self.d_model)\n",
        "\n",
        "    if mask is not None:\n",
        "      score = score + (mask * -1e9)\n",
        "\n",
        "    score = self.softmax(score)\n",
        "    result = torch.matmul(score, v)\n",
        "    result = self.dense(result)\n",
        "\n",
        "    return result"
      ]
    },
    {
      "cell_type": "markdown",
      "metadata": {
        "id": "-S0vMp85ZRNO"
      },
      "source": [
        "### Transformer Layer\n",
        "- Multi-Head-Attention\n",
        "- Residual Connection\n",
        "- Dropout\n",
        "- Layer Normalization\n",
        "\n",
        "```\n",
        "x1 = MHA(x, mask)\n",
        "x1 = Dropout(x1)\n",
        "x1 = LayerNorm(x1 + x)\n",
        "\n",
        "x2 = FFN(x1)\n",
        "x2 = Dropout(x2)\n",
        "x2 = LayerNorm(x2 + x1)\n",
        "```"
      ]
    },
    {
      "cell_type": "code",
      "execution_count": 7,
      "metadata": {
        "id": "VZHPCn9AS5Gp",
        "executionInfo": {
          "status": "ok",
          "timestamp": 1743770336077,
          "user_tz": -540,
          "elapsed": 3,
          "user": {
            "displayName": "표표표표푱",
            "userId": "15791434277334549064"
          }
        }
      },
      "outputs": [],
      "source": [
        "class TransformerLayer(nn.Module):\n",
        "  def __init__(self, d_model, n_heads, d_ff, dropout=0.1): # dropout 0.1 설정\n",
        "    super().__init__()\n",
        "\n",
        "    # MHA\n",
        "    self.mha = MultiHeadAttention(d_model, d_model, n_heads)\n",
        "    # Feed Forward\n",
        "    self.ffn = nn.Sequential(\n",
        "        nn.Linear(d_model, d_ff),\n",
        "        nn.ReLU(),\n",
        "        nn.Linear(d_ff, d_model)\n",
        "    )\n",
        "\n",
        "    # Layer Norm\n",
        "    self.norm1 = nn.LayerNorm(d_model)\n",
        "    self.norm2 = nn.LayerNorm(d_model)\n",
        "\n",
        "    # Dropout\n",
        "    self.dropout = nn.Dropout(dropout)\n",
        "\n",
        "  def forward(self, x, mask):\n",
        "    # MHA + Residual + LayerNorm\n",
        "    # 처음 들어온 값에 대해 MHA\n",
        "    x1 = self.mha(x, mask)\n",
        "\n",
        "    # MHA 통과한 값 Dropout\n",
        "    x1 = self.dropout(x1)\n",
        "\n",
        "    # LayerNorm\n",
        "    x1 = self.norm1(x1 + x) # f(x) = x + g(x): Residual Connection 처리\n",
        "\n",
        "    # FeedForward + Residual + LayerNorm\n",
        "    # MHA 거쳐온 결과값을 FeedForward\n",
        "    x2 = self.ffn(x1)\n",
        "\n",
        "    # Dropout\n",
        "    x2 = self.dropout(x2)\n",
        "\n",
        "    # LayerNorm\n",
        "    x2 = self.norm1(x1 + x2)\n",
        "\n",
        "\n",
        "    return x"
      ]
    },
    {
      "cell_type": "markdown",
      "metadata": {
        "id": "J3VYrqTJagS1"
      },
      "source": [
        "## Positional encoding\n",
        "\n",
        "$$\n",
        "\\begin{align*} PE_{pos, 2i} &= \\sin\\left( \\frac{pos}{10000^{2i/D}} \\right), \\\\ PE_{pos, 2i+1} &= \\cos\\left( \\frac{pos}{10000^{2i/D}} \\right).\\end{align*}\n",
        "$$"
      ]
    },
    {
      "cell_type": "code",
      "execution_count": 8,
      "metadata": {
        "colab": {
          "base_uri": "https://localhost:8080/"
        },
        "executionInfo": {
          "elapsed": 49,
          "status": "ok",
          "timestamp": 1743770336129,
          "user": {
            "displayName": "표표표표푱",
            "userId": "15791434277334549064"
          },
          "user_tz": -540
        },
        "id": "Uf_jMQWDUR79",
        "outputId": "a541bdef-8cf0-4661-88f6-27dc0440944a"
      },
      "outputs": [
        {
          "output_type": "stream",
          "name": "stdout",
          "text": [
            "torch.Size([1, 400, 256])\n"
          ]
        }
      ],
      "source": [
        "import numpy as np\n",
        "\n",
        "\n",
        "def get_angles(pos, i, d_model):\n",
        "    angle_rates = 1 / np.power(10000, (2 * (i // 2)) / np.float32(d_model))\n",
        "    return pos * angle_rates\n",
        "\n",
        "def positional_encoding(position, d_model):\n",
        "    angle_rads = get_angles(np.arange(position)[:, None], np.arange(d_model)[None, :], d_model)\n",
        "    angle_rads[:, 0::2] = np.sin(angle_rads[:, 0::2])\n",
        "    angle_rads[:, 1::2] = np.cos(angle_rads[:, 1::2])\n",
        "    pos_encoding = angle_rads[None, ...]\n",
        "\n",
        "    return torch.FloatTensor(pos_encoding)\n",
        "\n",
        "\n",
        "max_len = 400\n",
        "print(positional_encoding(max_len, 256).shape)"
      ]
    },
    {
      "cell_type": "markdown",
      "metadata": {
        "id": "5unoDcBva3eN"
      },
      "source": [
        "### WordPredictor (Transformer Layer + Positional Encoding)\n",
        "\n",
        "**✅5 Layers 4 Heads 구축**   \n",
        "- `TransformerLayer` 5개 쌓기\n",
        "- 각 레이어에서 MHA 4-head 설정\n",
        "\n",
        "``` python\n",
        "d_model:  128\n",
        "n_layers: 5\n",
        "n_heads:  4\n",
        "dropout:  0.1\n",
        "d_ff      512\n",
        "```\n",
        "\n",
        "<br>\n",
        "\n",
        "**Binary Classification => Last Word Prediction 변경**   \n",
        "- output 차원을 1 => vocab_size로 변경\n",
        "```\n",
        "👉🏻 예측할 class의 수가 vocab_size 만큼 있기 때문에 변경한다\n",
        "```\n",
        "<br>\n",
        "\n",
        "**Asis**   \n",
        "- 긍정 or 부정\n",
        "- 1개의 logit으로 표현 (sigmoid를 통한 확률 추출)\n",
        "- 총 class: 2개 (0, 1)\n",
        "``` python\n",
        "# 이진 분류 0 or 1 class\n",
        "self.classification = nn.Linear(d_model, 1)\n",
        "```\n",
        "<br>\n",
        "\n",
        "**Tobe**\n",
        "- BERT vocab 내 모든 단어 중 **가장 가능성이 높은 단어를 예측한다**\n",
        "- 총 class: `vocab_size`개 (BERT에서는 30,522개)\n",
        "``` python\n",
        "self.classification = nn.Linear(d_model, vocab_size)\n",
        "```   \n",
        "\n",
        "<br>\n",
        "\n",
        "**forward**   \n",
        "`x`: collate_fn에서 pad_sequence 처리되어 동적 padding 처리된 input tensor (text)   \n",
        "``` python\n",
        "x = [\n",
        "  [101, 2023, 2003, 1037, 2742, 102, 0, 0, 0],  # padding 포함된 문장\n",
        "  [101, 2057, 2293, 2009, 102, 0, 0, 0, 0]\n",
        "]\n",
        "\n",
        "# x.shape = (B, S) # B: 배치 크기, S: 최대 시퀀스 길이\n",
        "\n",
        "# 101 = [CLS]\n",
        "# 102 = [SEP]\n",
        "# 0 = [PAD] (tokenizer.pad_token_id)\n",
        "```\n",
        "- `mask`\n",
        "  - Transformer는 Self-Attention을 사용하기에, 모든 토큰이 서로를 참조한다\n",
        "  - 하지만, `padding`부분은 **무효한 공간이기 때문에** 무시해야한다 => `mask`를 만들어서 padding 부분은 attention score 계산에서 제외시킨다\n",
        "  ``` python\n",
        "    # padding된 위치만 골라낸다\n",
        "    # (B, S)\n",
        "    mask = (x == tokenizer.pad_token_id)\n",
        "    \n",
        "    # (B, S, S) => (B, 1, S)\n",
        "    # 추후 attention score 계산을 위한 브로드캐스팅\n",
        "    mask = mask[:, None, :]  # shape: (B, 1, S)\n",
        "  ```"
      ]
    },
    {
      "cell_type": "code",
      "execution_count": 9,
      "metadata": {
        "id": "8MaiCGh8TsDH",
        "executionInfo": {
          "status": "ok",
          "timestamp": 1743770336160,
          "user_tz": -540,
          "elapsed": 30,
          "user": {
            "displayName": "표표표표푱",
            "userId": "15791434277334549064"
          }
        }
      },
      "outputs": [],
      "source": [
        "class WordPredictor(nn.Module):\n",
        "  def __init__(self, vocab_size, d_model=128, n_layers=5, d_ff=512, n_heads=4, dropout=0.1):\n",
        "    super().__init__()\n",
        "\n",
        "    self.vocab_size = vocab_size\n",
        "    self.d_model = d_model\n",
        "\n",
        "    self.embedding = nn.Embedding(vocab_size, d_model)\n",
        "    self.pos_encoding = nn.parameter.Parameter(positional_encoding(512, d_model), requires_grad=False)\n",
        "\n",
        "    # 5 layers 4 heads 구조 잡기\n",
        "    self.layers = nn.ModuleList([TransformerLayer(d_model, n_heads, d_ff, dropout) for _ in range(n_layers)])\n",
        "\n",
        "    # 사용 Model의 vocab에 있는 모든 단어를 참고하여 가장 가능성이 높은 단어를 뽑아내야한다\n",
        "    self.prediction = nn.Linear(d_model, vocab_size)\n",
        "\n",
        "  # x: collate_fn에서 return한 text => pad_sequence를 통해 padding이 적용된 상태\n",
        "  def forward(self, input_ids):\n",
        "    # 무효한 padding token 부분 제외\n",
        "    mask = (input_ids == tokenizer.pad_token_id)\n",
        "    # broadcasting\n",
        "    mask = mask[:, None, :]\n",
        "    # (B, S)[1]\n",
        "    seq_len = input_ids.shape[1]\n",
        "\n",
        "    # x에 대해 d_model 차원의 벡터로 변환\n",
        "    x = self.embedding(input_ids)\n",
        "    # 벡터값이 너무 작아지는 걸 방지하기 위한 scaling\n",
        "    # BERT/Transformer 논문에서 embedding 벡터의 분산이 1이 되도록 하자는 의도라고 함\n",
        "    x = x * sqrt(self.d_model)\n",
        "    # positional encoding을 통한 위치 데이터 삽입\n",
        "    x = x + self.pos_encoding[:, :seq_len]\n",
        "\n",
        "    for layer in self.layers:\n",
        "      x = layer(x, mask)\n",
        "\n",
        "    # mask 처리되지 않은 실제 입력 시퀀스만 모은 후,\n",
        "    # 마지막 유효 토큰의 index를 찾아낸다\n",
        "    # ex> [101, 123, 234, 567, 0, 0] / pad: 2개 / input_length(마지막 유효 토큰 index): 4 - 1 = 3\n",
        "    # (B,)\n",
        "    input_length = (input_ids != tokenizer.pad_token_id).sum(dim=1) -1\n",
        "\n",
        "    # 3차원 텐서에서 마지막 행 마지막 열의 출력값을 꺼낸다\n",
        "    # 배치 내 각 문장마다 마지막 토큰의 위치를 동적으로 뽑는다\n",
        "    # torch.arange는 numpy.arrange와 비슷하다\n",
        "    # (B, D)\n",
        "    last_output = x[torch.arange(x.size(0)), input_length]\n",
        "\n",
        "    x = self.prediction(last_output)\n",
        "\n",
        "    return x\n",
        "\n",
        "# 차원 고정값이므로, vocab_size만 넘긴다\n",
        "model = WordPredictor(len(tokenizer))"
      ]
    },
    {
      "cell_type": "markdown",
      "metadata": {
        "id": "QDq05OlAb2lB"
      },
      "source": [
        "## 학습\n",
        "\n",
        "### BCEWithLogitsLoss vs CrossEntropyLoss\n",
        "|항목\t|BCEWithLogitsLoss|\tCrossEntropyLoss|\n",
        "|:---|:---|:---|\n",
        "|목적\t|이진 분류|\t다중 클래스 분류 (ex. MNIST, 단어 예측 등)\n",
        "|출력\t|(B, 1) 또는 (B,)|\t(B, C) (C는 클래스 개수)\n",
        "|정답\t|float/int (0 or 1)|\tint (0 ~ C-1 중 하나)\n",
        "|내부 처리\t|sigmoid + binary cross entropy|\tsoftmax + log + negative log likelihood\n"
      ]
    },
    {
      "cell_type": "code",
      "execution_count": 10,
      "metadata": {
        "id": "YHVVsWBPQmnv",
        "executionInfo": {
          "status": "ok",
          "timestamp": 1743770336467,
          "user_tz": -540,
          "elapsed": 304,
          "user": {
            "displayName": "표표표표푱",
            "userId": "15791434277334549064"
          }
        }
      },
      "outputs": [],
      "source": [
        "from torch.optim import Adam\n",
        "\n",
        "lr = 0.001\n",
        "model = model.to('cuda')\n",
        "# loss_fn = nn.BCEWithLogitsLoss()\n",
        "loss_fn = nn.CrossEntropyLoss()\n",
        "\n",
        "optimizer = Adam(model.parameters(), lr=lr)"
      ]
    },
    {
      "cell_type": "markdown",
      "source": [
        "**Accuracy fnc**   \n",
        "`평가 모드 적용`\n",
        "- model.eval()\n",
        "- with torch.no_grad()\n",
        "\n"
      ],
      "metadata": {
        "id": "SbpjvW0J-s_s"
      }
    },
    {
      "cell_type": "code",
      "execution_count": 11,
      "metadata": {
        "id": "r88BALxO1zc1",
        "executionInfo": {
          "status": "ok",
          "timestamp": 1743770336473,
          "user_tz": -540,
          "elapsed": 3,
          "user": {
            "displayName": "표표표표푱",
            "userId": "15791434277334549064"
          }
        }
      },
      "outputs": [],
      "source": [
        "import numpy as np\n",
        "import matplotlib.pyplot as plt\n",
        "\n",
        "def accuracy(model, dataloader):\n",
        "  model.eval()\n",
        "  correct = total = 0\n",
        "\n",
        "  with torch.no_grad():\n",
        "    for inputs, labels in dataloader:\n",
        "      inputs, labels = inputs.to('cuda'), labels.to('cuda')\n",
        "\n",
        "      preds = model(inputs) # (B, vocab_size) / vocab 내 모든 단어 참고\n",
        "      preds = torch.argmax(preds, dim=-1) # (B,) / 특정 단어 예측\n",
        "\n",
        "      correct += (preds == labels).sum().item()\n",
        "      total += labels.size(0)\n",
        "\n",
        "  return correct / total"
      ]
    },
    {
      "cell_type": "markdown",
      "source": [
        "**시각화 함수**"
      ],
      "metadata": {
        "id": "Xwow9iK6KuVu"
      }
    },
    {
      "cell_type": "code",
      "source": [
        "import matplotlib.pyplot as plt\n",
        "\n",
        "def plot_training(history):\n",
        "    epochs = list(range(1, len(history[\"train_loss\"]) + 1))\n",
        "\n",
        "    plt.figure(figsize=(12, 4))\n",
        "\n",
        "    # Loss\n",
        "    plt.subplot(1, 2, 1)\n",
        "    plt.plot(epochs, history[\"train_loss\"], label=\"Train Loss\")\n",
        "    plt.title(\"Training Loss\")\n",
        "    plt.xlabel(\"Epoch\")\n",
        "    plt.ylabel(\"Loss\")\n",
        "    plt.grid(True)\n",
        "\n",
        "    # Accuracy\n",
        "    plt.subplot(1, 2, 2)\n",
        "    plt.plot(epochs, history[\"train_acc\"], label=\"Train Acc\")\n",
        "    plt.plot(epochs, history[\"test_acc\"], label=\"Test Acc\")\n",
        "    plt.title(\"Accuracy\")\n",
        "    plt.xlabel(\"Epoch\")\n",
        "    plt.ylabel(\"Accuracy\")\n",
        "    plt.legend()\n",
        "    plt.grid(True)\n",
        "\n",
        "    plt.tight_layout()\n",
        "    plt.show()"
      ],
      "metadata": {
        "id": "RVHLZAjvHeuj",
        "executionInfo": {
          "status": "ok",
          "timestamp": 1743770336480,
          "user_tz": -540,
          "elapsed": 5,
          "user": {
            "displayName": "표표표표푱",
            "userId": "15791434277334549064"
          }
        }
      },
      "execution_count": 12,
      "outputs": []
    },
    {
      "cell_type": "code",
      "execution_count": 13,
      "metadata": {
        "colab": {
          "base_uri": "https://localhost:8080/"
        },
        "executionInfo": {
          "elapsed": 400228,
          "status": "ok",
          "timestamp": 1743770736709,
          "user": {
            "displayName": "표표표표푱",
            "userId": "15791434277334549064"
          },
          "user_tz": -540
        },
        "id": "al_b56TYRILq",
        "outputId": "c35bc4ad-dd30-4246-cef2-7c6f6584ca40"
      },
      "outputs": [
        {
          "output_type": "stream",
          "name": "stdout",
          "text": [
            "Epoch   1 | Train Loss: 458.3153610229492\n",
            "=========> Train acc: 0.043 | Test acc: 0.015\n",
            "Epoch   2 | Train Loss: 275.6476135253906\n",
            "=========> Train acc: 0.123 | Test acc: 0.059\n",
            "Epoch   3 | Train Loss: 183.58909130096436\n",
            "=========> Train acc: 0.205 | Test acc: 0.085\n",
            "Epoch   4 | Train Loss: 127.16447830200195\n",
            "=========> Train acc: 0.314 | Test acc: 0.098\n",
            "Epoch   5 | Train Loss: 89.79195642471313\n",
            "=========> Train acc: 0.418 | Test acc: 0.098\n",
            "Epoch   6 | Train Loss: 70.2613639831543\n",
            "=========> Train acc: 0.462 | Test acc: 0.110\n",
            "Epoch   7 | Train Loss: 58.35688519477844\n",
            "=========> Train acc: 0.492 | Test acc: 0.114\n",
            "Epoch   8 | Train Loss: 52.58213269710541\n",
            "=========> Train acc: 0.499 | Test acc: 0.114\n",
            "Epoch   9 | Train Loss: 48.523338317871094\n",
            "=========> Train acc: 0.509 | Test acc: 0.114\n",
            "Epoch  10 | Train Loss: 45.16714537143707\n",
            "=========> Train acc: 0.526 | Test acc: 0.124\n",
            "Epoch  11 | Train Loss: 42.70384240150452\n",
            "=========> Train acc: 0.536 | Test acc: 0.117\n",
            "Epoch  12 | Train Loss: 40.572250843048096\n",
            "=========> Train acc: 0.529 | Test acc: 0.126\n",
            "Epoch  13 | Train Loss: 39.071210503578186\n",
            "=========> Train acc: 0.548 | Test acc: 0.118\n",
            "Epoch  14 | Train Loss: 37.64934432506561\n",
            "=========> Train acc: 0.547 | Test acc: 0.110\n",
            "Epoch  15 | Train Loss: 37.82318568229675\n",
            "=========> Train acc: 0.546 | Test acc: 0.120\n",
            "Epoch  16 | Train Loss: 36.7547607421875\n",
            "=========> Train acc: 0.569 | Test acc: 0.119\n",
            "Epoch  17 | Train Loss: 36.161510944366455\n",
            "=========> Train acc: 0.562 | Test acc: 0.112\n",
            "Epoch  18 | Train Loss: 35.619744658470154\n",
            "=========> Train acc: 0.560 | Test acc: 0.113\n",
            "Epoch  19 | Train Loss: 34.62608641386032\n",
            "=========> Train acc: 0.572 | Test acc: 0.113\n",
            "Epoch  20 | Train Loss: 35.16691172122955\n",
            "=========> Train acc: 0.573 | Test acc: 0.127\n",
            "Epoch  21 | Train Loss: 33.92247974872589\n",
            "=========> Train acc: 0.574 | Test acc: 0.126\n",
            "Epoch  22 | Train Loss: 33.94409799575806\n",
            "=========> Train acc: 0.579 | Test acc: 0.127\n",
            "Epoch  23 | Train Loss: 33.68457305431366\n",
            "=========> Train acc: 0.586 | Test acc: 0.117\n",
            "Epoch  24 | Train Loss: 34.05940842628479\n",
            "=========> Train acc: 0.599 | Test acc: 0.120\n",
            "Epoch  25 | Train Loss: 33.125985503196716\n",
            "=========> Train acc: 0.590 | Test acc: 0.100\n",
            "Epoch  26 | Train Loss: 33.47778582572937\n",
            "=========> Train acc: 0.590 | Test acc: 0.122\n",
            "Epoch  27 | Train Loss: 32.85602641105652\n",
            "=========> Train acc: 0.598 | Test acc: 0.112\n",
            "Epoch  28 | Train Loss: 32.23554539680481\n",
            "=========> Train acc: 0.592 | Test acc: 0.124\n",
            "Epoch  29 | Train Loss: 32.62722337245941\n",
            "=========> Train acc: 0.589 | Test acc: 0.123\n",
            "Epoch  30 | Train Loss: 32.34081482887268\n",
            "=========> Train acc: 0.600 | Test acc: 0.118\n",
            "Epoch  31 | Train Loss: 32.71567261219025\n",
            "=========> Train acc: 0.602 | Test acc: 0.126\n",
            "Epoch  32 | Train Loss: 31.2241353392601\n",
            "=========> Train acc: 0.608 | Test acc: 0.127\n",
            "Epoch  33 | Train Loss: 31.31680166721344\n",
            "=========> Train acc: 0.616 | Test acc: 0.132\n",
            "Epoch  34 | Train Loss: 31.572811782360077\n",
            "=========> Train acc: 0.602 | Test acc: 0.114\n",
            "Epoch  35 | Train Loss: 30.914274156093597\n",
            "=========> Train acc: 0.622 | Test acc: 0.128\n",
            "Epoch  36 | Train Loss: 31.38538908958435\n",
            "=========> Train acc: 0.614 | Test acc: 0.123\n",
            "Epoch  37 | Train Loss: 31.11638331413269\n",
            "=========> Train acc: 0.633 | Test acc: 0.120\n",
            "Epoch  38 | Train Loss: 30.985598266124725\n",
            "=========> Train acc: 0.628 | Test acc: 0.110\n",
            "Epoch  39 | Train Loss: 30.710517525672913\n",
            "=========> Train acc: 0.617 | Test acc: 0.119\n",
            "Epoch  40 | Train Loss: 30.682790875434875\n",
            "=========> Train acc: 0.648 | Test acc: 0.126\n",
            "Epoch  41 | Train Loss: 29.78298783302307\n",
            "=========> Train acc: 0.648 | Test acc: 0.118\n",
            "Epoch  42 | Train Loss: 29.437829852104187\n",
            "=========> Train acc: 0.627 | Test acc: 0.126\n",
            "Epoch  43 | Train Loss: 29.207782924175262\n",
            "=========> Train acc: 0.628 | Test acc: 0.126\n",
            "Epoch  44 | Train Loss: 28.88140082359314\n",
            "=========> Train acc: 0.629 | Test acc: 0.106\n",
            "Epoch  45 | Train Loss: 29.430002868175507\n",
            "=========> Train acc: 0.642 | Test acc: 0.125\n",
            "Epoch  46 | Train Loss: 29.76286643743515\n",
            "=========> Train acc: 0.646 | Test acc: 0.124\n",
            "Epoch  47 | Train Loss: 29.506123661994934\n",
            "=========> Train acc: 0.646 | Test acc: 0.115\n",
            "Epoch  48 | Train Loss: 28.825512647628784\n",
            "=========> Train acc: 0.645 | Test acc: 0.127\n",
            "Epoch  49 | Train Loss: 29.38638472557068\n",
            "=========> Train acc: 0.654 | Test acc: 0.106\n",
            "Epoch  50 | Train Loss: 28.764239013195038\n",
            "=========> Train acc: 0.644 | Test acc: 0.137\n"
          ]
        }
      ],
      "source": [
        "n_epochs = 50\n",
        "\n",
        "# 학습 기록용\n",
        "history = {\n",
        "    \"train_loss\": [],\n",
        "    \"train_acc\": [],\n",
        "    \"test_acc\": []\n",
        "}\n",
        "\n",
        "for epoch in range(n_epochs):\n",
        "  torch.cuda.empty_cache()\n",
        "\n",
        "  total_loss = 0.\n",
        "  model.train()\n",
        "  for data in train_loader:\n",
        "    model.zero_grad()\n",
        "    inputs, labels = data\n",
        "    inputs, labels = inputs.to('cuda'), labels.to('cuda')\n",
        "\n",
        "    optimizer.zero_grad()\n",
        "\n",
        "    preds = model(inputs) # (B, vocab_size)\n",
        "    loss = loss_fn(preds, labels)\n",
        "    loss.backward()\n",
        "    optimizer.step()\n",
        "\n",
        "    total_loss += loss.item()\n",
        "\n",
        "  # print(f'실제로 랜덤하게 나오는지 정답 뽑아보기\\n{tokenizer.convert_ids_to_tokens(labels[:10].tolist())}')\n",
        "\n",
        "  print(f\"Epoch {epoch + 1:3d} | Train Loss: {total_loss}\")\n",
        "\n",
        "  train_acc = accuracy(model, train_loader)\n",
        "  test_acc = accuracy(model, test_loader)\n",
        "\n",
        "  print(f\"=========> Train acc: {train_acc:.3f} | Test acc: {test_acc:.3f}\")\n",
        "\n",
        "  # 기록 저장\n",
        "  history[\"train_loss\"].append(total_loss)\n",
        "  history[\"train_acc\"].append(train_acc)\n",
        "  history[\"test_acc\"].append(test_acc)"
      ]
    },
    {
      "cell_type": "code",
      "source": [
        "plot_training(history)"
      ],
      "metadata": {
        "id": "u-I121osywgW",
        "colab": {
          "base_uri": "https://localhost:8080/",
          "height": 407
        },
        "executionInfo": {
          "status": "ok",
          "timestamp": 1743770737149,
          "user_tz": -540,
          "elapsed": 434,
          "user": {
            "displayName": "표표표표푱",
            "userId": "15791434277334549064"
          }
        },
        "outputId": "6a06a3ef-d143-44cf-eac5-b8aba677b6f7"
      },
      "execution_count": 14,
      "outputs": [
        {
          "output_type": "display_data",
          "data": {
            "text/plain": [
              "<Figure size 1200x400 with 2 Axes>"
            ],
            "image/png": "[encoded data removed]"
          },
          "metadata": {}
        }
      ]
    }
  ],
  "metadata": {
    "colab": {
      "provenance": [
        {
          "file_id": "1nyLZ4w2197qU_Kxwd22znoMd-N0yA3Lu",
          "timestamp": 1743761797002
        },
        {
          "file_id": "1vh4ALpRVicq9hdonHYiLTlsPhY6LLZAE",
          "timestamp": 1743674214848
        }
      ],
      "gpuType": "T4"
    },
    "kernelspec": {
      "display_name": "Python 3",
      "name": "python3"
    },
    "language_info": {
      "codemirror_mode": {
        "name": "ipython",
        "version": 3
      },
      "file_extension": ".py",
      "mimetype": "text/x-python",
      "name": "python",
      "nbconvert_exporter": "python",
      "pygments_lexer": "ipython3",
      "version": "3.10.14"
    },
    "accelerator": "GPU"
  },
  "nbformat": 4,
  "nbformat_minor": 0
}
