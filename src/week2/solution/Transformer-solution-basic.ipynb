{
  "cells": [
    {
      "cell_type": "markdown",
      "metadata": {
        "id": "ymxatB5WYxlL"
      },
      "source": [
        "# Transformer - 기본 과제 (Last word prediction)\n",
        "```\n",
        "- IMDb 데이터셋\n",
        "- Binary Classification Model => Last word prediction Model 변환 작업\n",
        "```\n",
        "\n",
        "**기본 과제 코드 자체 분석**   \n",
        "[![Notebook](https://img.shields.io/badge/Github-Preview-black?logo=github)](https://github.com/zerovodka/ML-learning/blob/master/src/week2/Transformer-study.ipynb)\n",
        "<br>\n",
        "**BERT vs GPT Tokenizer**   \n",
        "[![Notebook](https://img.shields.io/badge/Github-Preview-black?logo=github)](https://github.com/zerovodka/ML-learning/blob/master/src/week2/BERT-vs-GPT-Tokenizer.ipynb)\n",
        "<br>\n",
        "**Embedding**   \n",
        "[![Notebook](https://img.shields.io/badge/Github-Preview-black?logo=github)](https://github.com/zerovodka/ML-learning/blob/master/src/week2/Embedding.ipynb)\n",
        "<br>\n",
        "**Positional Encoding**   \n",
        "[![Notebook](https://img.shields.io/badge/Github-Preview-black?logo=github)](https://github.com/zerovodka/ML-learning/blob/master/src/week2/Positional-Encoding.ipynb)\n"
      ]
    },
    {
      "cell_type": "code",
      "execution_count": 1,
      "metadata": {
        "id": "1X7RM2du1zcr",
        "outputId": "cf19d3df-4011-4e68-cb83-f4ebc0f978e0",
        "colab": {
          "base_uri": "https://localhost:8080/"
        },
        "executionInfo": {
          "status": "ok",
          "timestamp": 1743753221283,
          "user_tz": -540,
          "elapsed": 15066,
          "user": {
            "displayName": "표표표표푱",
            "userId": "15791434277334549064"
          }
        }
      },
      "outputs": [
        {
          "output_type": "stream",
          "name": "stdout",
          "text": [
            "Collecting datasets\n",
            "  Downloading datasets-3.5.0-py3-none-any.whl.metadata (19 kB)\n",
            "Collecting sacremoses\n",
            "  Downloading sacremoses-0.1.1-py3-none-any.whl.metadata (8.3 kB)\n",
            "Requirement already satisfied: filelock in /usr/local/lib/python3.11/dist-packages (from datasets) (3.18.0)\n",
            "Requirement already satisfied: numpy>=1.17 in /usr/local/lib/python3.11/dist-packages (from datasets) (2.0.2)\n",
            "Requirement already satisfied: pyarrow>=15.0.0 in /usr/local/lib/python3.11/dist-packages (from datasets) (18.1.0)\n",
            "Collecting dill<0.3.9,>=0.3.0 (from datasets)\n",
            "  Downloading dill-0.3.8-py3-none-any.whl.metadata (10 kB)\n",
            "Requirement already satisfied: pandas in /usr/local/lib/python3.11/dist-packages (from datasets) (2.2.2)\n",
            "Requirement already satisfied: requests>=2.32.2 in /usr/local/lib/python3.11/dist-packages (from datasets) (2.32.3)\n",
            "Requirement already satisfied: tqdm>=4.66.3 in /usr/local/lib/python3.11/dist-packages (from datasets) (4.67.1)\n",
            "Collecting xxhash (from datasets)\n",
            "  Downloading xxhash-3.5.0-cp311-cp311-manylinux_2_17_x86_64.manylinux2014_x86_64.whl.metadata (12 kB)\n",
            "Collecting multiprocess<0.70.17 (from datasets)\n",
            "  Downloading multiprocess-0.70.16-py311-none-any.whl.metadata (7.2 kB)\n",
            "Collecting fsspec<=2024.12.0,>=2023.1.0 (from fsspec[http]<=2024.12.0,>=2023.1.0->datasets)\n",
            "  Downloading fsspec-2024.12.0-py3-none-any.whl.metadata (11 kB)\n",
            "Requirement already satisfied: aiohttp in /usr/local/lib/python3.11/dist-packages (from datasets) (3.11.15)\n",
            "Requirement already satisfied: huggingface-hub>=0.24.0 in /usr/local/lib/python3.11/dist-packages (from datasets) (0.30.1)\n",
            "Requirement already satisfied: packaging in /usr/local/lib/python3.11/dist-packages (from datasets) (24.2)\n",
            "Requirement already satisfied: pyyaml>=5.1 in /usr/local/lib/python3.11/dist-packages (from datasets) (6.0.2)\n",
            "Requirement already satisfied: regex in /usr/local/lib/python3.11/dist-packages (from sacremoses) (2024.11.6)\n",
            "Requirement already satisfied: click in /usr/local/lib/python3.11/dist-packages (from sacremoses) (8.1.8)\n",
            "Requirement already satisfied: joblib in /usr/local/lib/python3.11/dist-packages (from sacremoses) (1.4.2)\n",
            "Requirement already satisfied: aiohappyeyeballs>=2.3.0 in /usr/local/lib/python3.11/dist-packages (from aiohttp->datasets) (2.6.1)\n",
            "Requirement already satisfied: aiosignal>=1.1.2 in /usr/local/lib/python3.11/dist-packages (from aiohttp->datasets) (1.3.2)\n",
            "Requirement already satisfied: attrs>=17.3.0 in /usr/local/lib/python3.11/dist-packages (from aiohttp->datasets) (25.3.0)\n",
            "Requirement already satisfied: frozenlist>=1.1.1 in /usr/local/lib/python3.11/dist-packages (from aiohttp->datasets) (1.5.0)\n",
            "Requirement already satisfied: multidict<7.0,>=4.5 in /usr/local/lib/python3.11/dist-packages (from aiohttp->datasets) (6.3.0)\n",
            "Requirement already satisfied: propcache>=0.2.0 in /usr/local/lib/python3.11/dist-packages (from aiohttp->datasets) (0.3.1)\n",
            "Requirement already satisfied: yarl<2.0,>=1.17.0 in /usr/local/lib/python3.11/dist-packages (from aiohttp->datasets) (1.18.3)\n",
            "Requirement already satisfied: typing-extensions>=3.7.4.3 in /usr/local/lib/python3.11/dist-packages (from huggingface-hub>=0.24.0->datasets) (4.13.0)\n",
            "Requirement already satisfied: charset-normalizer<4,>=2 in /usr/local/lib/python3.11/dist-packages (from requests>=2.32.2->datasets) (3.4.1)\n",
            "Requirement already satisfied: idna<4,>=2.5 in /usr/local/lib/python3.11/dist-packages (from requests>=2.32.2->datasets) (3.10)\n",
            "Requirement already satisfied: urllib3<3,>=1.21.1 in /usr/local/lib/python3.11/dist-packages (from requests>=2.32.2->datasets) (2.3.0)\n",
            "Requirement already satisfied: certifi>=2017.4.17 in /usr/local/lib/python3.11/dist-packages (from requests>=2.32.2->datasets) (2025.1.31)\n",
            "Requirement already satisfied: python-dateutil>=2.8.2 in /usr/local/lib/python3.11/dist-packages (from pandas->datasets) (2.8.2)\n",
            "Requirement already satisfied: pytz>=2020.1 in /usr/local/lib/python3.11/dist-packages (from pandas->datasets) (2025.2)\n",
            "Requirement already satisfied: tzdata>=2022.7 in /usr/local/lib/python3.11/dist-packages (from pandas->datasets) (2025.2)\n",
            "Requirement already satisfied: six>=1.5 in /usr/local/lib/python3.11/dist-packages (from python-dateutil>=2.8.2->pandas->datasets) (1.17.0)\n",
            "Downloading datasets-3.5.0-py3-none-any.whl (491 kB)\n",
            "\u001b[2K   \u001b[90m━━━━━━━━━━━━━━━━━━━━━━━━━━━━━━━━━━━━━━━━\u001b[0m \u001b[32m491.2/491.2 kB\u001b[0m \u001b[31m12.1 MB/s\u001b[0m eta \u001b[36m0:00:00\u001b[0m\n",
            "\u001b[?25hDownloading sacremoses-0.1.1-py3-none-any.whl (897 kB)\n",
            "\u001b[2K   \u001b[90m━━━━━━━━━━━━━━━━━━━━━━━━━━━━━━━━━━━━━━━━\u001b[0m \u001b[32m897.5/897.5 kB\u001b[0m \u001b[31m29.5 MB/s\u001b[0m eta \u001b[36m0:00:00\u001b[0m\n",
            "\u001b[?25hDownloading dill-0.3.8-py3-none-any.whl (116 kB)\n",
            "\u001b[2K   \u001b[90m━━━━━━━━━━━━━━━━━━━━━━━━━━━━━━━━━━━━━━━━\u001b[0m \u001b[32m116.3/116.3 kB\u001b[0m \u001b[31m9.5 MB/s\u001b[0m eta \u001b[36m0:00:00\u001b[0m\n",
            "\u001b[?25hDownloading fsspec-2024.12.0-py3-none-any.whl (183 kB)\n",
            "\u001b[2K   \u001b[90m━━━━━━━━━━━━━━━━━━━━━━━━━━━━━━━━━━━━━━━━\u001b[0m \u001b[32m183.9/183.9 kB\u001b[0m \u001b[31m13.7 MB/s\u001b[0m eta \u001b[36m0:00:00\u001b[0m\n",
            "\u001b[?25hDownloading multiprocess-0.70.16-py311-none-any.whl (143 kB)\n",
            "\u001b[2K   \u001b[90m━━━━━━━━━━━━━━━━━━━━━━━━━━━━━━━━━━━━━━━━\u001b[0m \u001b[32m143.5/143.5 kB\u001b[0m \u001b[31m11.2 MB/s\u001b[0m eta \u001b[36m0:00:00\u001b[0m\n",
            "\u001b[?25hDownloading xxhash-3.5.0-cp311-cp311-manylinux_2_17_x86_64.manylinux2014_x86_64.whl (194 kB)\n",
            "\u001b[2K   \u001b[90m━━━━━━━━━━━━━━━━━━━━━━━━━━━━━━━━━━━━━━━━\u001b[0m \u001b[32m194.8/194.8 kB\u001b[0m \u001b[31m14.8 MB/s\u001b[0m eta \u001b[36m0:00:00\u001b[0m\n",
            "\u001b[?25hInstalling collected packages: xxhash, sacremoses, fsspec, dill, multiprocess, datasets\n",
            "  Attempting uninstall: fsspec\n",
            "    Found existing installation: fsspec 2025.3.2\n",
            "    Uninstalling fsspec-2025.3.2:\n",
            "      Successfully uninstalled fsspec-2025.3.2\n",
            "\u001b[31mERROR: pip's dependency resolver does not currently take into account all the packages that are installed. This behaviour is the source of the following dependency conflicts.\n",
            "gcsfs 2025.3.2 requires fsspec==2025.3.2, but you have fsspec 2024.12.0 which is incompatible.\n",
            "torch 2.6.0+cu124 requires nvidia-cublas-cu12==12.4.5.8; platform_system == \"Linux\" and platform_machine == \"x86_64\", but you have nvidia-cublas-cu12 12.5.3.2 which is incompatible.\n",
            "torch 2.6.0+cu124 requires nvidia-cuda-cupti-cu12==12.4.127; platform_system == \"Linux\" and platform_machine == \"x86_64\", but you have nvidia-cuda-cupti-cu12 12.5.82 which is incompatible.\n",
            "torch 2.6.0+cu124 requires nvidia-cuda-nvrtc-cu12==12.4.127; platform_system == \"Linux\" and platform_machine == \"x86_64\", but you have nvidia-cuda-nvrtc-cu12 12.5.82 which is incompatible.\n",
            "torch 2.6.0+cu124 requires nvidia-cuda-runtime-cu12==12.4.127; platform_system == \"Linux\" and platform_machine == \"x86_64\", but you have nvidia-cuda-runtime-cu12 12.5.82 which is incompatible.\n",
            "torch 2.6.0+cu124 requires nvidia-cudnn-cu12==9.1.0.70; platform_system == \"Linux\" and platform_machine == \"x86_64\", but you have nvidia-cudnn-cu12 9.3.0.75 which is incompatible.\n",
            "torch 2.6.0+cu124 requires nvidia-cufft-cu12==11.2.1.3; platform_system == \"Linux\" and platform_machine == \"x86_64\", but you have nvidia-cufft-cu12 11.2.3.61 which is incompatible.\n",
            "torch 2.6.0+cu124 requires nvidia-curand-cu12==10.3.5.147; platform_system == \"Linux\" and platform_machine == \"x86_64\", but you have nvidia-curand-cu12 10.3.6.82 which is incompatible.\n",
            "torch 2.6.0+cu124 requires nvidia-cusolver-cu12==11.6.1.9; platform_system == \"Linux\" and platform_machine == \"x86_64\", but you have nvidia-cusolver-cu12 11.6.3.83 which is incompatible.\n",
            "torch 2.6.0+cu124 requires nvidia-cusparse-cu12==12.3.1.170; platform_system == \"Linux\" and platform_machine == \"x86_64\", but you have nvidia-cusparse-cu12 12.5.1.3 which is incompatible.\n",
            "torch 2.6.0+cu124 requires nvidia-nvjitlink-cu12==12.4.127; platform_system == \"Linux\" and platform_machine == \"x86_64\", but you have nvidia-nvjitlink-cu12 12.5.82 which is incompatible.\u001b[0m\u001b[31m\n",
            "\u001b[0mSuccessfully installed datasets-3.5.0 dill-0.3.8 fsspec-2024.12.0 multiprocess-0.70.16 sacremoses-0.1.1 xxhash-3.5.0\n"
          ]
        }
      ],
      "source": [
        "!pip install datasets sacremoses"
      ]
    },
    {
      "cell_type": "code",
      "execution_count": 51,
      "metadata": {
        "id": "HOdhoBVA1zcu",
        "colab": {
          "base_uri": "https://localhost:8080/"
        },
        "executionInfo": {
          "status": "ok",
          "timestamp": 1743758649809,
          "user_tz": -540,
          "elapsed": 8527,
          "user": {
            "displayName": "표표표표푱",
            "userId": "15791434277334549064"
          }
        },
        "outputId": "905b6523-ec77-4d4e-cd6d-ab7bffb2c4e3"
      },
      "outputs": [
        {
          "output_type": "stream",
          "name": "stderr",
          "text": [
            "Using cache found in /root/.cache/torch/hub/huggingface_pytorch-transformers_main\n"
          ]
        },
        {
          "output_type": "stream",
          "name": "stdout",
          "text": [
            "I rented I AM CURIOUS-YELLOW from my video store because of all the controversy that surrounded it when it was first released in 1967. I also heard that at first it was seized by U.S. customs if it ever tried to enter this country, therefore being a fan of films considered \"controversial\" I really had to see this for myself.<br /><br />The plot is centered around a young Swedish drama student named Lena who wants to learn everything she can about life. In particular she wants to focus her attentions to making some sort of documentary on what the average Swede thought about certain political issues such as the Vietnam War and race issues in the United States. In between asking politicians and ordinary denizens of Stockholm about their opinions on politics, she has sex with her drama teacher, classmates, and married men.<br /><br />What kills me about I AM CURIOUS-YELLOW is that 40 years ago, this was considered pornographic. Really, the sex and nudity scenes are few and far between, even then it's not shot like some cheaply made porno. While my countrymen mind find it shocking, in reality sex and nudity are a major staple in Swedish cinema. Even Ingmar Bergman, arguably their answer to good old boy John Ford, had sex scenes in his films.<br /><br />I do commend the filmmakers for the fact that any sex shown in the film is shown for artistic purposes rather than just to shock people and make money to be shown in pornographic theaters in America. I AM CURIOUS-YELLOW is a good film for anyone wanting to study the meat and potatoes (no pun intended) of Swedish cinema. But really, this film doesn't have much of a plot.\n",
            "0\n"
          ]
        }
      ],
      "source": [
        "import torch\n",
        "from datasets import load_dataset\n",
        "from torch.utils.data import DataLoader\n",
        "from transformers import BertTokenizerFast\n",
        "from tokenizers import (\n",
        "    decoders,\n",
        "    models,\n",
        "    normalizers,\n",
        "    pre_tokenizers,\n",
        "    processors,\n",
        "    trainers,\n",
        "    Tokenizer,\n",
        ")\n",
        "from torch.nn.utils.rnn import pad_sequence\n",
        "\n",
        "# ds = load_dataset(\"stanfordnlp/imdb\")\n",
        "train_ds = load_dataset(\"stanfordnlp/imdb\", split=\"train[:5%]\")\n",
        "test_ds = load_dataset(\"stanfordnlp/imdb\", split=\"test[:5%]\")\n",
        "\n",
        "tokenizer = torch.hub.load('huggingface/pytorch-transformers', 'tokenizer', 'bert-base-uncased')\n",
        "\n",
        "# Train/Test IMDb 데이터셋 출력 확인\n",
        "print(train_ds[0]['text'])\n",
        "print(train_ds[0]['label'])"
      ]
    },
    {
      "cell_type": "markdown",
      "source": [
        "**BERT Tokenizer Fnc**   \n",
        "- to_tensor 값에 따라 PyTorch Tensor type 혹은 Numpy 배열로 리턴한다\n",
        "- `collate_fn`에서 `pad_sequence`를 통해 동적 padding 수행하기에 `padding=True` 제외\n",
        "  - 데이터셋 중 가장 긴 문장길이가 200이라고하면, max_len으로 지정한 400으로 모두 padding 처리하는 것은 비효율\n",
        "  - 200으로 동적 padding을 수행해줌"
      ],
      "metadata": {
        "id": "v-z9jj5nVeiC"
      }
    },
    {
      "cell_type": "code",
      "source": [
        "def tokenizer_bert(text, max_length, to_tensor=False):\n",
        "\n",
        "  return tokenizer(text, truncation=True, max_length=max_length, return_tensors= 'pt' if to_tensor else None)"
      ],
      "metadata": {
        "id": "OxeFOlnBOLnK",
        "executionInfo": {
          "status": "ok",
          "timestamp": 1743753265305,
          "user_tz": -540,
          "elapsed": 4,
          "user": {
            "displayName": "표표표표푱",
            "userId": "15791434277334549064"
          }
        }
      },
      "execution_count": 3,
      "outputs": []
    },
    {
      "cell_type": "markdown",
      "source": [
        "## `collate_fn(batch)`\n",
        "- PyTorch DataLoader에서 batch 단위로 데이터를 불러옴\n",
        "- 불러온 각 데이터를 어떻게 하나의 batch로 묶을지 정의하는 함수\n",
        "``` python\n",
        "DataLoader(dataset, batch_size=64, collate_fn=collate_fn)\n",
        "```\n",
        "\n",
        "**방향성**   \n",
        "- 보다 명확히 유효 토큰을 필터링하여 리턴한다\n",
        "\n",
        "**batch**   \n",
        "- 길이: 64 `batch_size`지정 값\n",
        "- 각 원소는 dataset[i]\n",
        "``` python\n",
        "  {'text': ...., 'label':....} 👉🏻 상단에 print 부분 참조\n",
        "\n",
        "  # 즉 아래와 같은 형태\n",
        "  batch = [dict(text='sep1,,', label=0), dict(text='sep2,,', label=1), ...]\n",
        "```\n",
        "\n",
        "<br>\n",
        "\n",
        "**`torch.nn.utils.rnn.pad_sequence`**   \n",
        "- 여러 길이의 sequence를 하나의 tensor로 묶기위해 padding을 자동으로 추가\n",
        "- 같은 크기로 맞춰줌\n",
        "  - Model에 batch로 넣기 위해 꼭 필요함\n",
        "``` python\n",
        "    texts = [\n",
        "      torch.tensor([101, 2009, 2001]),\n",
        "      torch.tensor([101, 1996]),\n",
        "      torch.tensor([101, 1996, 2190, 3185])\n",
        "    ]\n",
        "\n",
        "    pad_sequence(texts, batch_first=True, padding_value=0)\n",
        "\n",
        "    👉🏻 tensor([\n",
        "      [101, 2009, 2001,    0],\n",
        "      [101, 1996,    0,    0],\n",
        "      [101, 1996, 2190, 3185]\n",
        "    ])\n",
        "```"
      ],
      "metadata": {
        "id": "BSb_T0DgYtkK"
      }
    },
    {
      "cell_type": "code",
      "source": [
        "def collate_fn(batch):\n",
        "  max_len = 400\n",
        "  texts, labels = [], []\n",
        "\n",
        "  # ignore token을 지정\n",
        "  # ignore_policy를 제외함\n",
        "  IGNORE_TOKENS = {\n",
        "      tokenizer.sep_token_id,\n",
        "      tokenizer.pad_token_id,\n",
        "      # list comprehension\n",
        "      *[tokenizer.convert_tokens_to_ids(ignore_policy) for ignore_policy in ['.', ',', '?', '!', ';']]\n",
        "  }\n",
        "\n",
        "  for row in batch:\n",
        "\n",
        "    # input_ids: BERT Tokenization, input_ids 추출\n",
        "    ids = tokenizer_bert(row['text'], max_len).input_ids\n",
        "\n",
        "    # 유효 label 찾기: 뒤에서 부터 하나씩 체크\n",
        "    for i in range(len(ids) - 1, -1, -1):\n",
        "      token_id = ids[i]\n",
        "      if token_id not in IGNORE_TOKENS:\n",
        "        label_id = token_id\n",
        "        label_pos = i\n",
        "        break\n",
        "      # 유효 토큰이 없는 경우 넘어감\n",
        "      else:\n",
        "        continue\n",
        "\n",
        "    # 입력 값에서 label 제외\n",
        "    # 유효 text만 추출\n",
        "    ids = ids[:label_pos]\n",
        "    if len(ids) < 2:\n",
        "      continue\n",
        "\n",
        "    texts.append(torch.LongTensor(ids))\n",
        "    labels.append(label_id)\n",
        "\n",
        "  # 유효 text가 하나도 없으면 빈 텐서 리턴\n",
        "  # 빈 텐서를 pad_sequence 처리하면 에러 발생\n",
        "  if not texts:\n",
        "    return torch.empty(0), torch.empty(0)\n",
        "\n",
        "  # policy에 맞는 유효 토큰을 추출한 후\n",
        "  # Model에 넣기 전 전처리\n",
        "  # tokenizer에서 진행하지 않은 padding 작업을 수행하여\n",
        "  # 정사각 tensor로 변환\n",
        "  texts = pad_sequence(texts, batch_first=True, padding_value=tokenizer.pad_token_id)\n",
        "  labels = torch.LongTensor(labels)\n",
        "\n",
        "  return texts, labels\n",
        "\n",
        "\n",
        "train_loader = DataLoader(\n",
        "    train_ds, batch_size=64, shuffle=True, collate_fn=collate_fn\n",
        ")\n",
        "test_loader = DataLoader(\n",
        "    test_ds, batch_size=64, shuffle=False, collate_fn=collate_fn\n",
        ")"
      ],
      "metadata": {
        "id": "cUWbJbNxHNGJ",
        "executionInfo": {
          "status": "ok",
          "timestamp": 1743758878603,
          "user_tz": -540,
          "elapsed": 53,
          "user": {
            "displayName": "표표표표푱",
            "userId": "15791434277334549064"
          }
        }
      },
      "execution_count": 55,
      "outputs": []
    },
    {
      "cell_type": "markdown",
      "metadata": {
        "id": "i-FshZcTZBQ2"
      },
      "source": [
        "## Self-attention"
      ]
    },
    {
      "cell_type": "code",
      "execution_count": 56,
      "metadata": {
        "id": "MBlMVMZcRAxv",
        "executionInfo": {
          "status": "ok",
          "timestamp": 1743758879293,
          "user_tz": -540,
          "elapsed": 20,
          "user": {
            "displayName": "표표표표푱",
            "userId": "15791434277334549064"
          }
        }
      },
      "outputs": [],
      "source": [
        "from torch import nn\n",
        "from math import sqrt\n",
        "\n",
        "\n",
        "class SelfAttention(nn.Module):\n",
        "  def __init__(self, input_dim, d_model):\n",
        "    super().__init__()\n",
        "\n",
        "    self.input_dim = input_dim\n",
        "    self.d_model = d_model\n",
        "\n",
        "    self.wq = nn.Linear(input_dim, d_model)\n",
        "    self.wk = nn.Linear(input_dim, d_model)\n",
        "    self.wv = nn.Linear(input_dim, d_model)\n",
        "    self.dense = nn.Linear(d_model, d_model)\n",
        "\n",
        "    self.softmax = nn.Softmax(dim=-1)\n",
        "\n",
        "  def forward(self, x, mask):\n",
        "    q, k, v = self.wq(x), self.wk(x), self.wv(x)\n",
        "    score = torch.matmul(q, k.transpose(-1, -2)) # (B, S, D) * (B, D, S) = (B, S, S)\n",
        "    score = score / sqrt(self.d_model)\n",
        "\n",
        "    if mask is not None:\n",
        "      score = score + (mask * -1e9)\n",
        "\n",
        "    score = self.softmax(score)\n",
        "    result = torch.matmul(score, v)\n",
        "    result = self.dense(result)\n",
        "\n",
        "    return result"
      ]
    },
    {
      "cell_type": "markdown",
      "metadata": {
        "id": "-S0vMp85ZRNO"
      },
      "source": [
        "### Transformer Layer\n",
        "- Self-Attention\n",
        "- Feed Forward Layer"
      ]
    },
    {
      "cell_type": "code",
      "execution_count": 57,
      "metadata": {
        "id": "VZHPCn9AS5Gp",
        "executionInfo": {
          "status": "ok",
          "timestamp": 1743758879710,
          "user_tz": -540,
          "elapsed": 215,
          "user": {
            "displayName": "표표표표푱",
            "userId": "15791434277334549064"
          }
        }
      },
      "outputs": [],
      "source": [
        "class TransformerLayer(nn.Module):\n",
        "  def __init__(self, input_dim, d_model, dff):\n",
        "    super().__init__()\n",
        "\n",
        "    self.input_dim = input_dim\n",
        "    self.d_model = d_model\n",
        "    self.dff = dff\n",
        "\n",
        "    self.sa = SelfAttention(input_dim, d_model)\n",
        "    self.ffn = nn.Sequential(\n",
        "      nn.Linear(d_model, dff),\n",
        "      nn.ReLU(),\n",
        "      nn.Linear(dff, d_model)\n",
        "    )\n",
        "\n",
        "  def forward(self, x, mask):\n",
        "    x = self.sa(x, mask)\n",
        "    x = self.ffn(x)\n",
        "\n",
        "    return x"
      ]
    },
    {
      "cell_type": "markdown",
      "metadata": {
        "id": "J3VYrqTJagS1"
      },
      "source": [
        "## Positional encoding\n",
        "\n",
        "$$\n",
        "\\begin{align*} PE_{pos, 2i} &= \\sin\\left( \\frac{pos}{10000^{2i/D}} \\right), \\\\ PE_{pos, 2i+1} &= \\cos\\left( \\frac{pos}{10000^{2i/D}} \\right).\\end{align*}\n",
        "$$"
      ]
    },
    {
      "cell_type": "code",
      "execution_count": 58,
      "metadata": {
        "colab": {
          "base_uri": "https://localhost:8080/"
        },
        "executionInfo": {
          "elapsed": 5,
          "status": "ok",
          "timestamp": 1743758879943,
          "user": {
            "displayName": "표표표표푱",
            "userId": "15791434277334549064"
          },
          "user_tz": -540
        },
        "id": "Uf_jMQWDUR79",
        "outputId": "ec61ee65-fc55-4c03-d60b-fb934eda9a90"
      },
      "outputs": [
        {
          "output_type": "stream",
          "name": "stdout",
          "text": [
            "torch.Size([1, 400, 256])\n"
          ]
        }
      ],
      "source": [
        "import numpy as np\n",
        "\n",
        "\n",
        "def get_angles(pos, i, d_model):\n",
        "    angle_rates = 1 / np.power(10000, (2 * (i // 2)) / np.float32(d_model))\n",
        "    return pos * angle_rates\n",
        "\n",
        "def positional_encoding(position, d_model):\n",
        "    angle_rads = get_angles(np.arange(position)[:, None], np.arange(d_model)[None, :], d_model)\n",
        "    angle_rads[:, 0::2] = np.sin(angle_rads[:, 0::2])\n",
        "    angle_rads[:, 1::2] = np.cos(angle_rads[:, 1::2])\n",
        "    pos_encoding = angle_rads[None, ...]\n",
        "\n",
        "    return torch.FloatTensor(pos_encoding)\n",
        "\n",
        "\n",
        "max_len = 400\n",
        "print(positional_encoding(max_len, 256).shape)"
      ]
    },
    {
      "cell_type": "markdown",
      "metadata": {
        "id": "5unoDcBva3eN"
      },
      "source": [
        "### WordPredictor (Transformer Layer + Positional Encoding)\n",
        "**Binary Classification => Last Word Prediction 변경**   \n",
        "- output 차원을 1 => vocab_size로 변경\n",
        "```\n",
        "👉🏻 예측할 class의 수가 vocab_size 만큼 있기 때문에 변경한다\n",
        "```\n",
        "<br>\n",
        "\n",
        "**Asis**   \n",
        "- 긍정 or 부정\n",
        "- 1개의 logit으로 표현 (sigmoid를 통한 확률 추출)\n",
        "- 총 class: 2개 (0, 1)\n",
        "``` python\n",
        "# 이진 분류 0 or 1 class\n",
        "self.classification = nn.Linear(d_model, 1)\n",
        "```\n",
        "<br>\n",
        "\n",
        "**Tobe**\n",
        "- BERT vocab 내 모든 단어 중 **가장 가능성이 높은 단어를 예측한다**\n",
        "- 총 class: `vocab_size`개 (BERT에서는 30,522개)\n",
        "``` python\n",
        "self.classification = nn.Linear(d_model, vocab_size)\n",
        "```   \n",
        "\n",
        "<br>\n",
        "\n",
        "**forward**   \n",
        "`x`: collate_fn에서 pad_sequence 처리되어 동적 padding 처리된 input tensor (text)   \n",
        "``` python\n",
        "x = [\n",
        "  [101, 2023, 2003, 1037, 2742, 102, 0, 0, 0],  # padding 포함된 문장\n",
        "  [101, 2057, 2293, 2009, 102, 0, 0, 0, 0]\n",
        "]\n",
        "\n",
        "# x.shape = (B, S) # B: 배치 크기, S: 최대 시퀀스 길이\n",
        "\n",
        "# 101 = [CLS]\n",
        "# 102 = [SEP]\n",
        "# 0 = [PAD] (tokenizer.pad_token_id)\n",
        "```\n",
        "- `mask`\n",
        "  - Transformer는 Self-Attention을 사용하기에, 모든 토큰이 서로를 참조한다\n",
        "  - 하지만, `padding`부분은 **무효한 공간이기 때문에** 무시해야한다 => `mask`를 만들어서 padding 부분은 attention score 계산에서 제외시킨다\n",
        "  ``` python\n",
        "    # padding된 위치만 골라낸다\n",
        "    # (B, S)\n",
        "    mask = (x == tokenizer.pad_token_id)\n",
        "    \n",
        "    # (B, S, S) => (B, 1, S)\n",
        "    # 추후 attention score 계산을 위한 브로드캐스팅\n",
        "    mask = mask[:, None, :]  # shape: (B, 1, S)\n",
        "  ```"
      ]
    },
    {
      "cell_type": "code",
      "execution_count": 59,
      "metadata": {
        "id": "8MaiCGh8TsDH",
        "executionInfo": {
          "status": "ok",
          "timestamp": 1743758881052,
          "user_tz": -540,
          "elapsed": 6,
          "user": {
            "displayName": "표표표표푱",
            "userId": "15791434277334549064"
          }
        }
      },
      "outputs": [],
      "source": [
        "class WordPredictor(nn.Module):\n",
        "  def __init__(self, vocab_size, d_model, n_layers, dff):\n",
        "    super().__init__()\n",
        "\n",
        "    self.vocab_size = vocab_size\n",
        "    self.d_model = d_model\n",
        "    self.n_layers = n_layers\n",
        "    self.dff = dff\n",
        "\n",
        "    self.embedding = nn.Embedding(vocab_size, d_model)\n",
        "    self.pos_encoding = nn.parameter.Parameter(positional_encoding(max_len, d_model), requires_grad=False)\n",
        "    self.layers = nn.ModuleList([TransformerLayer(d_model, d_model, dff) for _ in range(n_layers)])\n",
        "\n",
        "    # 이진 분류 => 단어 예측 변경\n",
        "    # 사용 Model의 vocab에 있는 모든 단어를 참고하여 가장 가능성이 높은 단어를 뽑아내야한다\n",
        "    self.prediction = nn.Linear(d_model, vocab_size)\n",
        "\n",
        "  # x: collate_fn에서 return한 text => pad_sequence를 통해 padding이 적용된 상태\n",
        "  def forward(self, input_ids):\n",
        "    # 무효한 padding token 부분 제외\n",
        "    mask = (input_ids == tokenizer.pad_token_id)\n",
        "    # broadcasting\n",
        "    mask = mask[:, None, :]\n",
        "    # (B, S)[1]\n",
        "    seq_len = input_ids.shape[1]\n",
        "\n",
        "    # x에 대해 d_model 차원의 벡터로 변환\n",
        "    x = self.embedding(input_ids)\n",
        "    # 벡터값이 너무 작아지는 걸 방지하기 위한 scaling\n",
        "    # BERT/Transformer 논문에서 embedding 벡터의 분산이 1이 되도록 하자는 의도라고 함\n",
        "    x = x * sqrt(self.d_model)\n",
        "    # positional encoding을 통한 위치 데이터 삽입\n",
        "    x = x + self.pos_encoding[:, :seq_len]\n",
        "\n",
        "    for layer in self.layers:\n",
        "      x = layer(x, mask)\n",
        "\n",
        "    # mask 처리되지 않은 실제 입력 시퀀스만 모은 후,\n",
        "    # 마지막 유효 토큰의 index를 찾아낸다\n",
        "    # ex> [101, 123, 234, 567, 0, 0] / pad: 2개 / input_length(마지막 유효 토큰 index): 4 - 1 = 3\n",
        "    # (B,)\n",
        "    input_length = (input_ids != tokenizer.pad_token_id).sum(dim=1) -1\n",
        "\n",
        "    # 3차원 텐서에서 마지막 행 마지막 열의 출력값을 꺼낸다\n",
        "    # 배치 내 각 문장마다 마지막 토큰의 위치를 동적으로 뽑는다\n",
        "    # torch.arange는 numpy.arrange와 비슷하다\n",
        "    # (B, D)\n",
        "    last_output = x[torch.arange(x.size(0)), input_length]\n",
        "\n",
        "    x = self.prediction(last_output)\n",
        "\n",
        "    return x\n",
        "\n",
        "\n",
        "model = WordPredictor(len(tokenizer), 32, 2, 32)"
      ]
    },
    {
      "cell_type": "markdown",
      "metadata": {
        "id": "QDq05OlAb2lB"
      },
      "source": [
        "## 학습\n",
        "\n",
        "### BCEWithLogitsLoss vs CrossEntropyLoss\n",
        "|항목\t|BCEWithLogitsLoss|\tCrossEntropyLoss|\n",
        "|:---|:---|:---|\n",
        "|목적\t|이진 분류|\t다중 클래스 분류 (ex. MNIST, 단어 예측 등)\n",
        "|출력\t|(B, 1) 또는 (B,)|\t(B, C) (C는 클래스 개수)\n",
        "|정답\t|float/int (0 or 1)|\tint (0 ~ C-1 중 하나)\n",
        "|내부 처리\t|sigmoid + binary cross entropy|\tsoftmax + log + negative log likelihood\n"
      ]
    },
    {
      "cell_type": "code",
      "execution_count": 60,
      "metadata": {
        "id": "YHVVsWBPQmnv",
        "executionInfo": {
          "status": "ok",
          "timestamp": 1743758881992,
          "user_tz": -540,
          "elapsed": 3,
          "user": {
            "displayName": "표표표표푱",
            "userId": "15791434277334549064"
          }
        }
      },
      "outputs": [],
      "source": [
        "from torch.optim import Adam\n",
        "\n",
        "lr = 0.001\n",
        "model = model.to('cuda')\n",
        "# loss_fn = nn.BCEWithLogitsLoss()\n",
        "loss_fn = nn.CrossEntropyLoss()\n",
        "\n",
        "optimizer = Adam(model.parameters(), lr=lr)"
      ]
    },
    {
      "cell_type": "markdown",
      "source": [
        "**Accuracy fnc**   \n",
        "`평가 모드 적용`\n",
        "- model.eval()\n",
        "- with torch.no_grad()\n",
        "\n"
      ],
      "metadata": {
        "id": "SbpjvW0J-s_s"
      }
    },
    {
      "cell_type": "code",
      "execution_count": 61,
      "metadata": {
        "id": "r88BALxO1zc1",
        "executionInfo": {
          "status": "ok",
          "timestamp": 1743758884185,
          "user_tz": -540,
          "elapsed": 3,
          "user": {
            "displayName": "표표표표푱",
            "userId": "15791434277334549064"
          }
        }
      },
      "outputs": [],
      "source": [
        "import numpy as np\n",
        "import matplotlib.pyplot as plt\n",
        "\n",
        "def accuracy(model, dataloader):\n",
        "  model.eval()\n",
        "  correct = total = 0\n",
        "\n",
        "  with torch.no_grad():\n",
        "    for inputs, labels in dataloader:\n",
        "      inputs, labels = inputs.to('cuda'), labels.to('cuda')\n",
        "\n",
        "      preds = model(inputs) # (B, vocab_size) / vocab 내 모든 단어 참고\n",
        "      preds = torch.argmax(preds, dim=-1) # (B,) / 특정 단어 예측\n",
        "\n",
        "      correct += (preds == labels).sum().item()\n",
        "      total += labels.size(0)\n",
        "\n",
        "  return correct / total"
      ]
    },
    {
      "cell_type": "markdown",
      "source": [
        "**시각화 함수**"
      ],
      "metadata": {
        "id": "Xwow9iK6KuVu"
      }
    },
    {
      "cell_type": "code",
      "source": [
        "import matplotlib.pyplot as plt\n",
        "\n",
        "def plot_training(history):\n",
        "    epochs = list(range(1, len(history[\"train_loss\"]) + 1))\n",
        "\n",
        "    plt.figure(figsize=(12, 4))\n",
        "\n",
        "    # Loss\n",
        "    plt.subplot(1, 2, 1)\n",
        "    plt.plot(epochs, history[\"train_loss\"], label=\"Train Loss\")\n",
        "    plt.title(\"Training Loss\")\n",
        "    plt.xlabel(\"Epoch\")\n",
        "    plt.ylabel(\"Loss\")\n",
        "    plt.grid(True)\n",
        "\n",
        "    # Accuracy\n",
        "    plt.subplot(1, 2, 2)\n",
        "    plt.plot(epochs, history[\"train_acc\"], label=\"Train Acc\")\n",
        "    plt.plot(epochs, history[\"test_acc\"], label=\"Test Acc\")\n",
        "    plt.title(\"Accuracy\")\n",
        "    plt.xlabel(\"Epoch\")\n",
        "    plt.ylabel(\"Accuracy\")\n",
        "    plt.legend()\n",
        "    plt.grid(True)\n",
        "\n",
        "    plt.tight_layout()\n",
        "    plt.show()"
      ],
      "metadata": {
        "id": "RVHLZAjvHeuj",
        "executionInfo": {
          "status": "ok",
          "timestamp": 1743759539498,
          "user_tz": -540,
          "elapsed": 79,
          "user": {
            "displayName": "표표표표푱",
            "userId": "15791434277334549064"
          }
        }
      },
      "execution_count": 65,
      "outputs": []
    },
    {
      "cell_type": "code",
      "execution_count": 68,
      "metadata": {
        "colab": {
          "base_uri": "https://localhost:8080/"
        },
        "executionInfo": {
          "elapsed": 237948,
          "status": "ok",
          "timestamp": 1743760697462,
          "user": {
            "displayName": "표표표표푱",
            "userId": "15791434277334549064"
          },
          "user_tz": -540
        },
        "id": "al_b56TYRILq",
        "outputId": "da67eb2a-ebf9-4eb2-d604-b804b8a4ba54"
      },
      "outputs": [
        {
          "output_type": "stream",
          "name": "stdout",
          "text": [
            "Epoch   1 | Train Loss: 75.73436880111694\n",
            "=========> Train acc: 0.149 | Test acc: 0.011\n",
            "Epoch   2 | Train Loss: 74.5088255405426\n",
            "=========> Train acc: 0.146 | Test acc: 0.017\n",
            "Epoch   3 | Train Loss: 73.45684766769409\n",
            "=========> Train acc: 0.146 | Test acc: 0.021\n",
            "Epoch   4 | Train Loss: 73.25341296195984\n",
            "=========> Train acc: 0.152 | Test acc: 0.018\n",
            "Epoch   5 | Train Loss: 74.33871459960938\n",
            "=========> Train acc: 0.161 | Test acc: 0.014\n",
            "Epoch   6 | Train Loss: 72.24047422409058\n",
            "=========> Train acc: 0.179 | Test acc: 0.016\n",
            "Epoch   7 | Train Loss: 70.78261232376099\n",
            "=========> Train acc: 0.165 | Test acc: 0.019\n",
            "Epoch   8 | Train Loss: 70.05832099914551\n",
            "=========> Train acc: 0.175 | Test acc: 0.019\n",
            "Epoch   9 | Train Loss: 69.59103059768677\n",
            "=========> Train acc: 0.175 | Test acc: 0.020\n",
            "Epoch  10 | Train Loss: 69.60202312469482\n",
            "=========> Train acc: 0.168 | Test acc: 0.013\n",
            "Epoch  11 | Train Loss: 69.9627616405487\n",
            "=========> Train acc: 0.154 | Test acc: 0.014\n",
            "Epoch  12 | Train Loss: 67.49229311943054\n",
            "=========> Train acc: 0.210 | Test acc: 0.018\n",
            "Epoch  13 | Train Loss: 67.02883791923523\n",
            "=========> Train acc: 0.201 | Test acc: 0.015\n",
            "Epoch  14 | Train Loss: 68.27155470848083\n",
            "=========> Train acc: 0.196 | Test acc: 0.015\n",
            "Epoch  15 | Train Loss: 68.16657590866089\n",
            "=========> Train acc: 0.193 | Test acc: 0.018\n",
            "Epoch  16 | Train Loss: 68.48784756660461\n",
            "=========> Train acc: 0.191 | Test acc: 0.017\n",
            "Epoch  17 | Train Loss: 68.33376502990723\n",
            "=========> Train acc: 0.211 | Test acc: 0.017\n",
            "Epoch  18 | Train Loss: 64.62101173400879\n",
            "=========> Train acc: 0.238 | Test acc: 0.011\n",
            "Epoch  19 | Train Loss: 64.54551243782043\n",
            "=========> Train acc: 0.217 | Test acc: 0.014\n",
            "Epoch  20 | Train Loss: 65.73212575912476\n",
            "=========> Train acc: 0.218 | Test acc: 0.010\n",
            "Epoch  21 | Train Loss: 63.99599027633667\n",
            "=========> Train acc: 0.233 | Test acc: 0.014\n",
            "Epoch  22 | Train Loss: 62.68336629867554\n",
            "=========> Train acc: 0.233 | Test acc: 0.011\n",
            "Epoch  23 | Train Loss: 62.54055070877075\n",
            "=========> Train acc: 0.241 | Test acc: 0.015\n",
            "Epoch  24 | Train Loss: 62.57988691329956\n",
            "=========> Train acc: 0.249 | Test acc: 0.018\n",
            "Epoch  25 | Train Loss: 60.744635343551636\n",
            "=========> Train acc: 0.271 | Test acc: 0.011\n",
            "Epoch  26 | Train Loss: 58.86833906173706\n",
            "=========> Train acc: 0.276 | Test acc: 0.016\n",
            "Epoch  27 | Train Loss: 60.16386413574219\n",
            "=========> Train acc: 0.282 | Test acc: 0.014\n",
            "Epoch  28 | Train Loss: 59.874202251434326\n",
            "=========> Train acc: 0.272 | Test acc: 0.016\n",
            "Epoch  29 | Train Loss: 59.27859544754028\n",
            "=========> Train acc: 0.267 | Test acc: 0.010\n",
            "Epoch  30 | Train Loss: 59.391491413116455\n",
            "=========> Train acc: 0.269 | Test acc: 0.013\n",
            "Epoch  31 | Train Loss: 58.96256470680237\n",
            "=========> Train acc: 0.280 | Test acc: 0.011\n",
            "Epoch  32 | Train Loss: 60.03114175796509\n",
            "=========> Train acc: 0.265 | Test acc: 0.013\n",
            "Epoch  33 | Train Loss: 63.553545236587524\n",
            "=========> Train acc: 0.266 | Test acc: 0.011\n",
            "Epoch  34 | Train Loss: 64.26253843307495\n",
            "=========> Train acc: 0.246 | Test acc: 0.014\n",
            "Epoch  35 | Train Loss: 61.351356983184814\n",
            "=========> Train acc: 0.279 | Test acc: 0.010\n",
            "Epoch  36 | Train Loss: 57.80083227157593\n",
            "=========> Train acc: 0.306 | Test acc: 0.010\n",
            "Epoch  37 | Train Loss: 57.737038135528564\n",
            "=========> Train acc: 0.304 | Test acc: 0.012\n",
            "Epoch  38 | Train Loss: 55.54716968536377\n",
            "=========> Train acc: 0.291 | Test acc: 0.014\n",
            "Epoch  39 | Train Loss: 56.377639293670654\n",
            "=========> Train acc: 0.305 | Test acc: 0.012\n",
            "Epoch  40 | Train Loss: 54.43667197227478\n",
            "=========> Train acc: 0.302 | Test acc: 0.012\n",
            "Epoch  41 | Train Loss: 54.346994400024414\n",
            "=========> Train acc: 0.334 | Test acc: 0.016\n",
            "Epoch  42 | Train Loss: 52.03174138069153\n",
            "=========> Train acc: 0.345 | Test acc: 0.014\n",
            "Epoch  43 | Train Loss: 51.49015140533447\n",
            "=========> Train acc: 0.342 | Test acc: 0.010\n",
            "Epoch  44 | Train Loss: 51.253082036972046\n",
            "=========> Train acc: 0.360 | Test acc: 0.010\n",
            "Epoch  45 | Train Loss: 50.70121145248413\n",
            "=========> Train acc: 0.374 | Test acc: 0.017\n",
            "Epoch  46 | Train Loss: 50.40312469005585\n",
            "=========> Train acc: 0.366 | Test acc: 0.015\n",
            "Epoch  47 | Train Loss: 49.432547211647034\n",
            "=========> Train acc: 0.351 | Test acc: 0.012\n",
            "Epoch  48 | Train Loss: 49.69647192955017\n",
            "=========> Train acc: 0.370 | Test acc: 0.014\n",
            "Epoch  49 | Train Loss: 49.233482122421265\n",
            "=========> Train acc: 0.359 | Test acc: 0.010\n",
            "Epoch  50 | Train Loss: 48.71583294868469\n",
            "=========> Train acc: 0.394 | Test acc: 0.015\n"
          ]
        }
      ],
      "source": [
        "n_epochs = 50\n",
        "\n",
        "# 학습 기록용\n",
        "history = {\n",
        "    \"train_loss\": [],\n",
        "    \"train_acc\": [],\n",
        "    \"test_acc\": []\n",
        "}\n",
        "\n",
        "for epoch in range(n_epochs):\n",
        "  torch.cuda.empty_cache()\n",
        "\n",
        "  total_loss = 0.\n",
        "  model.train()\n",
        "  for data in train_loader:\n",
        "    model.zero_grad()\n",
        "    inputs, labels = data\n",
        "    inputs, labels = inputs.to('cuda'), labels.to('cuda')\n",
        "\n",
        "    optimizer.zero_grad()\n",
        "\n",
        "    preds = model(inputs) # (B, vocab_size)\n",
        "    loss = loss_fn(preds, labels)\n",
        "    loss.backward()\n",
        "    optimizer.step()\n",
        "\n",
        "    total_loss += loss.item()\n",
        "\n",
        "  # print(f'실제로 랜덤하게 나오는지 정답 뽑아보기\\n{tokenizer.convert_ids_to_tokens(labels[:10].tolist())}')\n",
        "\n",
        "  print(f\"Epoch {epoch + 1:3d} | Train Loss: {total_loss}\")\n",
        "\n",
        "  train_acc = accuracy(model, train_loader)\n",
        "  test_acc = accuracy(model, test_loader)\n",
        "\n",
        "  print(f\"=========> Train acc: {train_acc:.3f} | Test acc: {test_acc:.3f}\")\n",
        "\n",
        "  # 기록 저장\n",
        "  history[\"train_loss\"].append(total_loss)\n",
        "  history[\"train_acc\"].append(train_acc)\n",
        "  history[\"test_acc\"].append(test_acc)"
      ]
    },
    {
      "cell_type": "code",
      "source": [
        "plot_training(history)"
      ],
      "metadata": {
        "id": "u-I121osywgW",
        "colab": {
          "base_uri": "https://localhost:8080/",
          "height": 259
        },
        "executionInfo": {
          "status": "ok",
          "timestamp": 1743760697958,
          "user_tz": -540,
          "elapsed": 482,
          "user": {
            "displayName": "표표표표푱",
            "userId": "15791434277334549064"
          }
        },
        "outputId": "1544b0b2-2d2a-4fce-e8b1-ab145accf43d"
      },
      "execution_count": 69,
      "outputs": [
        {
          "output_type": "display_data",
          "data": {
            "text/plain": [
              "<Figure size 1200x400 with 2 Axes>"
            ],
            "image/png": "[encoded data removed]"
          },
          "metadata": {}
        }
      ]
    },
    {
      "cell_type": "markdown",
      "source": [
        "### Loss는 줄고, Train Acc는 증가 / Test Acc는 감소\n",
        "**나의 생각**   \n",
        "- 30522개의 방대한 vocab 중 1개를 맞춰야 하는 task라 평균 확률로 회귀하는것인가..? 🤔\n",
        "\n",
        "<br>\n",
        "\n",
        "**GPT의 의견**   \n",
        "✅ 1. 정답 클래스가 30,000개가 넘는 다중 분류 문제\n",
        "- 우리가 풀고 있는 건 **단어 예측**, 즉 vocab_size = 30522개의 클래스 중 정답 1개만 맞춰야 함\n",
        "\n",
        "- 이건 사실상 \"초고난이도 단어 맞추기 퀴즈\" 같은 느낌\n",
        "\n",
        "✅ 2. 정답 분포가 매우 불균형\n",
        "- 예측해야 하는 마지막 단어는 실제로 다양하지만,\n",
        "\n",
        "- 모델 입장에선 확률을 30,000개로 나눠야 하다 보니, 결국 \"**자주 등장하는 단어**\"에 확률을 몰기 시작함\n",
        "\n",
        "- 그래서 loss는 줄지만 accuracy는 떨어지거나 요동치는 현상이 나와\n",
        "\n",
        "<br>\n",
        "\n",
        "**📈 지금 상태에서 loss는 왜 줄어드는데 accuracy는 안 좋을까?**   \n",
        "\n",
        "|요소|\t이유|\n",
        "|:---|:---|\n",
        "|Loss|\t전체 분포(softmax output)를 기준으로 계산 → \"조금이라도 정답에 가까우면\" 낮아짐|\n",
        "|Accuracy|\targmax한 결과가 정답과 완전히 일치해야만 1점 → 작은 차이도 틀린 걸로 취급|\n",
        "\n",
        "\n",
        "👉🏻 **즉, loss는 모델이 정답 근처로 확률을 몰고 있으면 점점 줄 수 있지만,\n",
        "accuracy는 맞거나 틀리거나 둘 중 하나라서 더 민감하게 출렁이는 것**\n",
        "\n",
        "<br>\n",
        "\n",
        "\n",
        "**🎯 이럴 때의 모델 학습 상태 느낌**   \n",
        ">“얘가 정답 근처 단어는 점점 더 잘 고르는데, 아직 정확히 맞히는 건 못하고 있어.”   \n",
        "<br>\n",
        "지금 네 모델은 \"30522개 중 하나를 맞추는 초고난이도 퀴즈\"에서, 점점 정답 근처로 접근 중이지만 아직 정확히 못 맞추고 있어서 accuracy가 출렁이는 상태야.\n",
        "\n",
        "<br>\n",
        "\n",
        "**🔧 어떻게 개선할 수 있을까?**   \n",
        "\n",
        "|방법|\t설명|\n",
        "|:---|:---|\n",
        "|`d_model`, `n_layers` 키우기|\tvocab 표현력을 높여서 정확히 \"어떤 단어인지\" 구별할 수 있게 함|\n",
        "|더 많은 epoch|\tloss는 천천히 내려가지만, 정확도는 어느 순간 갑자기 튀어오를 수 있음|\n",
        "|`top-k accuracy` 측정|\t예: top-3 안에 정답 있으면 OK로 → 지금 모델이 \"거의 맞췄는지\" 확인 가능|\n",
        "|subword 수준 평가|\t`[mask]` 예측처럼 여러 토큰으로 나뉜 단어 단위로 평가하면 정확도 높일 수 있음|\n"
      ],
      "metadata": {
        "id": "A09Q58zmME0c"
      }
    }
  ],
  "metadata": {
    "colab": {
      "provenance": [
        {
          "file_id": "1vh4ALpRVicq9hdonHYiLTlsPhY6LLZAE",
          "timestamp": 1743674214848
        }
      ],
      "gpuType": "T4"
    },
    "kernelspec": {
      "display_name": "Python 3",
      "name": "python3"
    },
    "language_info": {
      "codemirror_mode": {
        "name": "ipython",
        "version": 3
      },
      "file_extension": ".py",
      "mimetype": "text/x-python",
      "name": "python",
      "nbconvert_exporter": "python",
      "pygments_lexer": "ipython3",
      "version": "3.10.14"
    },
    "accelerator": "GPU"
  },
  "nbformat": 4,
  "nbformat_minor": 0
}
